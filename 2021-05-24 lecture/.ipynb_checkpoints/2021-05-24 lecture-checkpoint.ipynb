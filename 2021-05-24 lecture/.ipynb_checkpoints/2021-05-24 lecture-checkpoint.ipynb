{
 "cells": [
  {
   "cell_type": "code",
   "execution_count": null,
   "id": "5d79ef91",
   "metadata": {},
   "outputs": [],
   "source": [
    "1 in [1,2,3]"
   ]
  },
  {
   "cell_type": "code",
   "execution_count": null,
   "id": "867cf954",
   "metadata": {},
   "outputs": [],
   "source": [
    "4 not in [1,2,3]"
   ]
  },
  {
   "cell_type": "code",
   "execution_count": null,
   "id": "1643a6bb",
   "metadata": {},
   "outputs": [],
   "source": [
    "a = 1"
   ]
  },
  {
   "cell_type": "code",
   "execution_count": null,
   "id": "fcd36e65",
   "metadata": {},
   "outputs": [],
   "source": [
    "if a == 1:\n",
    "    pass\n"
   ]
  },
  {
   "cell_type": "code",
   "execution_count": null,
   "id": "5341e7c3",
   "metadata": {},
   "outputs": [],
   "source": [
    "if a == 1: print(\"a는 1\")"
   ]
  },
  {
   "cell_type": "code",
   "execution_count": null,
   "id": "b5ccd9f6",
   "metadata": {},
   "outputs": [],
   "source": [
    "a = 0\n",
    "if a == 1: print(\"a는 1\")\n",
    "print(\"good bye\")"
   ]
  },
  {
   "cell_type": "code",
   "execution_count": null,
   "id": "4c7f8ec6",
   "metadata": {},
   "outputs": [],
   "source": [
    "treeHit = 1\n",
    "while treeHit <= 10:\n",
    "    print(\"나무를 \" + str(treeHit)+ \"번 찍었습니다.\")\n",
    "    if treeHit == 10: print(\"나무 넘어갑니다\")\n",
    "    treeHit += 1 #treeHit = treeHit + 1\n"
   ]
  },
  {
   "cell_type": "code",
   "execution_count": null,
   "id": "6592a069",
   "metadata": {},
   "outputs": [],
   "source": [
    "a = input(\"정수를 입력하세요\")\n",
    "print(a)"
   ]
  },
  {
   "cell_type": "code",
   "execution_count": null,
   "id": "5589436a",
   "metadata": {},
   "outputs": [],
   "source": [
    "a = input(\"정수를 입력하세요\")\n",
    "a = int(a) + 1\n",
    "print(a)"
   ]
  },
  {
   "cell_type": "code",
   "execution_count": null,
   "id": "231eab02",
   "metadata": {},
   "outputs": [],
   "source": [
    "list_a = []\n",
    "num = 0\n",
    "while num < 4 :\n",
    "    receive = input(\"온도를 입력하세요: \")\n",
    "    int(receive)\n",
    "    list_a.append(receive)\n",
    "    num += 1\n",
    "print(list_a)"
   ]
  },
  {
   "cell_type": "code",
   "execution_count": null,
   "id": "2d34cec9",
   "metadata": {},
   "outputs": [],
   "source": [
    "list_a = []\n",
    "num = 1\n",
    "print(\"온도를 입력하세요 단, 입력을 멈추려면 -500을 입력하세요\")\n",
    "while True :\n",
    "    receive = input(\"온도를 입력하세요: \")\n",
    "    receive = int(receive)\n",
    "    if receive == -500:\n",
    "        break\n",
    "    list_a.append(receive)\n",
    "    num += 1\n",
    "\n",
    "print(list_a)"
   ]
  },
  {
   "cell_type": "code",
   "execution_count": null,
   "id": "2795c14f",
   "metadata": {},
   "outputs": [],
   "source": [
    "list_a = []\n",
    "print(\"온도를 입력하세요 단, 입력을 멈추려면 -500을 입력하세요\")\n",
    "while True :\n",
    "    receive = input(\"온도를 입력하세요: \")\n",
    "    receive = int(receive)\n",
    "    if receive == -500:break\n",
    "    if receive > 50 or receive < -40: continue\n",
    "    list_a.append(receive)\n",
    "print(list_a)"
   ]
  },
  {
   "cell_type": "code",
   "execution_count": null,
   "id": "43f8441a",
   "metadata": {},
   "outputs": [],
   "source": [
    "a = range(10)\n",
    "print(a)"
   ]
  },
  {
   "cell_type": "code",
   "execution_count": null,
   "id": "073bef6c",
   "metadata": {},
   "outputs": [],
   "source": [
    "for i in range(10):\n",
    "    print(i, end=\" \")"
   ]
  },
  {
   "cell_type": "code",
   "execution_count": null,
   "id": "a558ad46",
   "metadata": {},
   "outputs": [],
   "source": [
    "for i in range(5,10):\n",
    "    print(i,end=\" \")"
   ]
  },
  {
   "cell_type": "code",
   "execution_count": null,
   "id": "8a4fe87a",
   "metadata": {},
   "outputs": [],
   "source": [
    "for i in range(1,11,2):\n",
    "    print(i,end=\" \")"
   ]
  },
  {
   "cell_type": "code",
   "execution_count": null,
   "id": "f9ec6050",
   "metadata": {},
   "outputs": [],
   "source": [
    "for i in range(10,0, -1):\n",
    "    print(i, end=\" \")"
   ]
  },
  {
   "cell_type": "code",
   "execution_count": null,
   "id": "9e9bfc03",
   "metadata": {},
   "outputs": [],
   "source": [
    "for i in [1,4,7,10]:\n",
    "    print(i, end=\" \")"
   ]
  },
  {
   "cell_type": "code",
   "execution_count": null,
   "id": "cbd568bd",
   "metadata": {},
   "outputs": [],
   "source": [
    "a = [1,4,7,10]\n",
    "for i in a:\n",
    "    print(i, end=\" \")"
   ]
  },
  {
   "cell_type": "code",
   "execution_count": null,
   "id": "01632514",
   "metadata": {},
   "outputs": [],
   "source": [
    "a = [1,2,3,4]\n",
    "res = []\n",
    "for num in a:\n",
    "    res.append(num*3)\n",
    "print(res,end=\" \")"
   ]
  },
  {
   "cell_type": "code",
   "execution_count": null,
   "id": "cdca33dc",
   "metadata": {},
   "outputs": [],
   "source": [
    "a = [1,2,3,4]\n",
    "res = [num*3 for num in a]\n",
    "res"
   ]
  },
  {
   "cell_type": "code",
   "execution_count": null,
   "id": "943e735b",
   "metadata": {},
   "outputs": [],
   "source": [
    "a = [1,2,3,4]\n",
    "res = [num*3 for num in a if num % 2 == 0]\n",
    "res"
   ]
  },
  {
   "cell_type": "code",
   "execution_count": null,
   "id": "73f2c911",
   "metadata": {},
   "outputs": [],
   "source": [
    "a = [1,2,3,4]\n",
    "res = []\n",
    "for num in a:\n",
    "    if num % 2 == 0:\n",
    "        res.append(num*3)\n",
    "print(res,end=\" \")"
   ]
  },
  {
   "cell_type": "code",
   "execution_count": null,
   "id": "0deb5e8d",
   "metadata": {},
   "outputs": [],
   "source": [
    "i = 0\n",
    "while True:\n",
    "    i += 1\n",
    "    if i > 5: break\n",
    "    print(\"*\"*i)"
   ]
  },
  {
   "cell_type": "code",
   "execution_count": null,
   "id": "1f8431d6",
   "metadata": {},
   "outputs": [],
   "source": [
    "for i in range (1,6):\n",
    "    if i > 5: break\n",
    "    print(\"*\"*i)"
   ]
  },
  {
   "cell_type": "code",
   "execution_count": null,
   "id": "d538fb9f",
   "metadata": {},
   "outputs": [],
   "source": [
    "i = 0\n",
    "while True:\n",
    "    i+=1\n",
    "    if i>5: break\n",
    "    for j in range(i):\n",
    "        print(\"*\", end=\"\")\n",
    "    print(\"\")"
   ]
  },
  {
   "cell_type": "code",
   "execution_count": null,
   "id": "660e5cfc",
   "metadata": {},
   "outputs": [],
   "source": [
    "for i in range(1,101):\n",
    "    print(i)"
   ]
  },
  {
   "cell_type": "code",
   "execution_count": null,
   "id": "0b7db949",
   "metadata": {},
   "outputs": [],
   "source": [
    "A = [70,60,55,75,95,90,80,80,85,100]\n",
    "total = 0\n",
    "for score in A:\n",
    "    total += score\n",
    "average= total/ len(A)\n",
    "print(average)"
   ]
  },
  {
   "cell_type": "code",
   "execution_count": 16,
   "id": "da36888e",
   "metadata": {},
   "outputs": [
    {
     "name": "stdout",
     "output_type": "stream",
     "text": [
      "60 59 58 57 56 55 54 53 52 51 50 49 48 47 46 45 44 43 42 41 40 39 38 37 36 35 34 33 32 31 30 29 28 27 26 25 24 23 22 21 20 19 18 17 16 15 14 13 12 11 10 9 8 7 6 5 4 3 2 1 0 \n",
      "발사!\n"
     ]
    }
   ],
   "source": [
    "i = 60\n",
    "while i >= 0:\n",
    "    print(i , end=\" \")\n",
    "    i -= 1\n",
    "print(\"\\n발사!\")"
   ]
  },
  {
   "cell_type": "code",
   "execution_count": 15,
   "id": "34e83104",
   "metadata": {},
   "outputs": [
    {
     "name": "stdout",
     "output_type": "stream",
     "text": [
      "60   59   58   57   56   55   54   53   52   51   50   49   48   47   46   45   44   43   42   41   40   39   38   37   36   35   34   33   32   31   30   29   28   27   26   25   24   23   22   21   20   19   18   17   16   15   14   13   12   11   10   9   8   7   6   5   4   3   2   1   0   \n",
      "발사!\n"
     ]
    }
   ],
   "source": [
    "for i in range(60,-1,-1):\n",
    "    print(i , end=\"   \")\n",
    "    if(i == 0):\n",
    "        print(\"\\n발사!\")"
   ]
  },
  {
   "cell_type": "code",
   "execution_count": 21,
   "id": "91e4c238",
   "metadata": {},
   "outputs": [
    {
     "name": "stdout",
     "output_type": "stream",
     "text": [
      "1 2 3 4 5 6 7 8 9 \n",
      "2 4 6 8 10 12 14 16 18 \n",
      "3 6 9 12 15 18 21 24 27 \n",
      "4 8 12 16 20 24 28 32 36 \n",
      "5 10 15 20 25 30 35 40 45 \n",
      "6 12 18 24 30 36 42 48 54 \n",
      "7 14 21 28 35 42 49 56 63 \n",
      "8 16 24 32 40 48 56 64 72 \n",
      "9 18 27 36 45 54 63 72 81 \n"
     ]
    }
   ],
   "source": [
    "for i in range(1,10):\n",
    "    for j in range(1,10):\n",
    "        print(i * j, end=\" \")\n",
    "    print(\"\")"
   ]
  },
  {
   "cell_type": "code",
   "execution_count": 38,
   "id": "3857d4f2",
   "metadata": {},
   "outputs": [
    {
     "name": "stdout",
     "output_type": "stream",
     "text": [
      "1******\n",
      "12*****\n",
      "123****\n",
      "1234***\n",
      "12345**\n",
      "123456*\n",
      "1234567\n"
     ]
    }
   ],
   "source": [
    "for i in range(1,8):\n",
    "    for j in range(1,8):\n",
    "        if i >= j:\n",
    "            print(j, end=\"\")\n",
    "        else:\n",
    "            print(\"*\",end=\"\")\n",
    "    print(\"\")"
   ]
  },
  {
   "cell_type": "code",
   "execution_count": 39,
   "id": "5c802ab7",
   "metadata": {},
   "outputs": [
    {
     "name": "stdout",
     "output_type": "stream",
     "text": [
      "몇 개?7\n",
      "1 * * * * * * \n",
      "1 2 * * * * * \n",
      "1 2 3 * * * * \n",
      "1 2 3 4 * * * \n",
      "1 2 3 4 5 * * \n",
      "1 2 3 4 5 6 * \n",
      "1 2 3 4 5 6 7 \n"
     ]
    }
   ],
   "source": [
    "num = int(input(\"몇 개?\"))\n",
    "for hang in range(1,num+1):\n",
    "    for yol in range(1, hang+1):\n",
    "        print(yol,end=\" \")\n",
    "    for yol in range(1, num+1-hang):\n",
    "        print(\"*\", end=\" \")\n",
    "    print(\"\")"
   ]
  }
 ],
 "metadata": {
  "kernelspec": {
   "display_name": "Python 3",
   "language": "python",
   "name": "python3"
  }
 },
 "nbformat": 4,
 "nbformat_minor": 5
}
