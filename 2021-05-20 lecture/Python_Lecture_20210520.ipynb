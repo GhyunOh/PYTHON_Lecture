{
 "cells": [
  {
   "cell_type": "code",
   "execution_count": 2,
   "id": "a7b64566",
   "metadata": {},
   "outputs": [
    {
     "data": {
      "text/plain": [
       "3400.0"
      ]
     },
     "execution_count": 2,
     "metadata": {},
     "output_type": "execute_result"
    }
   ],
   "source": [
    "3.4e3"
   ]
  },
  {
   "cell_type": "code",
   "execution_count": 6,
   "id": "8dac72c5",
   "metadata": {},
   "outputs": [
    {
     "data": {
      "text/plain": [
       "0.0034"
      ]
     },
     "execution_count": 6,
     "metadata": {},
     "output_type": "execute_result"
    }
   ],
   "source": [
    "3.4e-3"
   ]
  },
  {
   "cell_type": "code",
   "execution_count": 7,
   "id": "cb3b041e",
   "metadata": {},
   "outputs": [
    {
     "data": {
      "text/plain": [
       "9"
      ]
     },
     "execution_count": 7,
     "metadata": {},
     "output_type": "execute_result"
    }
   ],
   "source": [
    "3**2"
   ]
  },
  {
   "cell_type": "code",
   "execution_count": 11,
   "id": "4aec564d",
   "metadata": {},
   "outputs": [
    {
     "data": {
      "text/plain": [
       "1"
      ]
     },
     "execution_count": 11,
     "metadata": {},
     "output_type": "execute_result"
    }
   ],
   "source": [
    "3^2"
   ]
  },
  {
   "cell_type": "code",
   "execution_count": 13,
   "id": "eea8d8f5",
   "metadata": {},
   "outputs": [],
   "source": [
    "#와 !"
   ]
  },
  {
   "cell_type": "code",
   "execution_count": 19,
   "id": "5190d2b1",
   "metadata": {},
   "outputs": [],
   "source": [
    "# 재고 5\n",
    "# 3개마다 1박스 구성 가능\n",
    "# 출하 가능 박스 개수\n",
    "# 남은 재고 개수"
   ]
  },
  {
   "cell_type": "code",
   "execution_count": 29,
   "id": "a1bc2beb",
   "metadata": {},
   "outputs": [
    {
     "name": "stdout",
     "output_type": "stream",
     "text": [
      "출하 가능 박스:\t1개\n",
      "출하 후 재고:\t2개\n"
     ]
    }
   ],
   "source": [
    "stock_current =5\n",
    "package_size =3\n",
    "box_available = stock_current//package_size\n",
    "stock_current = stock_current % package_size\n",
    "print(\"출하 가능 박스:\\t\"+str(box_available)+ \"개\")\n",
    "print(\"출하 후 재고:\\t\"+str(stock_current)+\"개\")"
   ]
  },
  {
   "cell_type": "code",
   "execution_count": 30,
   "id": "bd84184a",
   "metadata": {},
   "outputs": [
    {
     "name": "stdout",
     "output_type": "stream",
     "text": [
      "사과\n",
      "자두\n",
      "수박\n"
     ]
    }
   ],
   "source": [
    "print('사과')\n",
    "print(\"자두\")\n",
    "print(\"\"\"수박\"\"\")"
   ]
  },
  {
   "cell_type": "code",
   "execution_count": 35,
   "id": "74f31ffb",
   "metadata": {},
   "outputs": [
    {
     "name": "stdout",
     "output_type": "stream",
     "text": [
      "He said that \"I am so happy.\"\n"
     ]
    }
   ],
   "source": [
    "#He said that \"I am so happy\"\n",
    "print('He said that \"I am so happy.\"')"
   ]
  },
  {
   "cell_type": "code",
   "execution_count": 1,
   "id": "8986ca86",
   "metadata": {},
   "outputs": [
    {
     "name": "stdout",
     "output_type": "stream",
     "text": [
      "best\n",
      "music\n",
      "award\n"
     ]
    }
   ],
   "source": [
    "print(\"\"\"best\n",
    "music\n",
    "award\"\"\")"
   ]
  },
  {
   "cell_type": "code",
   "execution_count": 2,
   "id": "3c5c63ae",
   "metadata": {},
   "outputs": [
    {
     "name": "stdout",
     "output_type": "stream",
     "text": [
      "best\n",
      "music \n",
      "award\n"
     ]
    }
   ],
   "source": [
    "print(\"best\\nmusic \\naward\")"
   ]
  },
  {
   "cell_type": "code",
   "execution_count": 3,
   "id": "8c502469",
   "metadata": {},
   "outputs": [
    {
     "name": "stdout",
     "output_type": "stream",
     "text": [
      "a\\b\\c\\\n"
     ]
    }
   ],
   "source": [
    "print(\"a\\\\b\\\\c\\\\\")"
   ]
  },
  {
   "cell_type": "code",
   "execution_count": 5,
   "id": "68d15a5b",
   "metadata": {},
   "outputs": [
    {
     "name": "stdout",
     "output_type": "stream",
     "text": [
      "girl's generation\n"
     ]
    }
   ],
   "source": [
    "print(\"girl's generation\")"
   ]
  },
  {
   "cell_type": "code",
   "execution_count": 9,
   "id": "7ea3ec9e",
   "metadata": {},
   "outputs": [
    {
     "name": "stdout",
     "output_type": "stream",
     "text": [
      "안녕하세요. 서호준님 만나서 반갑습니다.\n"
     ]
    }
   ],
   "source": [
    "greeting = \"안녕하세요. \"\n",
    "name = \"서호준\"\n",
    "greeting2 = \"님 만나서 반갑습니다.\"\n",
    "sentence1 = greeting + name + greeting2\n",
    "print(sentence1)"
   ]
  },
  {
   "cell_type": "code",
   "execution_count": 11,
   "id": "0c075681",
   "metadata": {},
   "outputs": [
    {
     "name": "stdout",
     "output_type": "stream",
     "text": [
      "안녕하세요. 김한남님 만나서 반갑습니다.\n"
     ]
    }
   ],
   "source": [
    "name = \"김한남\"\n",
    "sentence1 = greeting + name + greeting2\n",
    "print(sentence1)"
   ]
  },
  {
   "cell_type": "code",
   "execution_count": 16,
   "id": "e397a789",
   "metadata": {},
   "outputs": [
    {
     "name": "stdout",
     "output_type": "stream",
     "text": [
      "안녕하세요. 김한남님 만나서 정말 정말 정말님 만나서 반갑습니다.\n"
     ]
    }
   ],
   "source": [
    "friendly = 3\n",
    "expression1 = \" 정말\"\n",
    "greeting2 = \"님 만나서\"\n",
    "greeting3 = \" 반갑습니다.\"\n",
    "sentence1 = greeting + name + greeting2\\\n",
    "            + expression1 * friendly +greeting2 + greeting3\n",
    "print(sentence1)"
   ]
  },
  {
   "cell_type": "code",
   "execution_count": 28,
   "id": "c2198336",
   "metadata": {},
   "outputs": [],
   "source": [
    "first_over_count = 0\n",
    "second_over_count = 0"
   ]
  },
  {
   "cell_type": "code",
   "execution_count": 30,
   "id": "19921a02",
   "metadata": {},
   "outputs": [
    {
     "name": "stdout",
     "output_type": "stream",
     "text": [
      "first_over_count:0\n",
      "second_over_count:0\n"
     ]
    }
   ],
   "source": [
    "first_name = \"호준\"\n",
    "second_name = \"서\"\n",
    "if len(first_name) > 3:\n",
    "    print(\"이름 길이 초과 탐색\")\n",
    "    first_over_count += 1\n",
    "if len(second_name) > 1:\n",
    "    print(\"성 길이 초과 탐색\")\n",
    "    second_over_count+= 1\n",
    "print(\"first_over_count:\"+ str(first_over_count))\n",
    "print(\"second_over_count:\"+ str(second_over_count))"
   ]
  },
  {
   "cell_type": "code",
   "execution_count": 31,
   "id": "8308847a",
   "metadata": {},
   "outputs": [
    {
     "name": "stdout",
     "output_type": "stream",
     "text": [
      "성 길이 초과 탐색\n",
      "first_over_count:0\n",
      "second_over_count:1\n"
     ]
    }
   ],
   "source": [
    "first_name = \"공명\"\n",
    "second_name = \"재강\"\n",
    "if len(first_name) > 3:\n",
    "    print(\"이름 길이 초과 탐색\")\n",
    "    first_over_count += 1\n",
    "if len(second_name) > 1:\n",
    "    print(\"성 길이 초과 탐색\")\n",
    "    second_over_count+= 1\n",
    "print(\"first_over_count:\"+ str(first_over_count))\n",
    "print(\"second_over_count:\"+ str(second_over_count))"
   ]
  },
  {
   "cell_type": "code",
   "execution_count": null,
   "id": "d7ff8a01",
   "metadata": {},
   "outputs": [],
   "source": []
  }
 ],
 "metadata": {
  "kernelspec": {
   "display_name": "Python 3",
   "language": "python",
   "name": "python3"
  },
  "language_info": {
   "codemirror_mode": {
    "name": "ipython",
    "version": 3
   },
   "file_extension": ".py",
   "mimetype": "text/x-python",
   "name": "python",
   "nbconvert_exporter": "python",
   "pygments_lexer": "ipython3",
   "version": "3.8.8"
  }
 },
 "nbformat": 4,
 "nbformat_minor": 5
}
