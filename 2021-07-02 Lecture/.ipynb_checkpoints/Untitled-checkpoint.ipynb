{
 "cells": [
  {
   "cell_type": "code",
   "execution_count": 1,
   "id": "85288ba0",
   "metadata": {},
   "outputs": [],
   "source": [
    "import torch\n",
    "import torch.nn.functional as F"
   ]
  },
  {
   "cell_type": "code",
   "execution_count": 2,
   "id": "c3e28e02",
   "metadata": {},
   "outputs": [],
   "source": [
    "z = torch.FloatTensor([1,2,3])\n"
   ]
  },
  {
   "cell_type": "code",
   "execution_count": 3,
   "id": "3effc22c",
   "metadata": {},
   "outputs": [
    {
     "data": {
      "text/plain": [
       "tensor([0.0900, 0.2447, 0.6652])"
      ]
     },
     "execution_count": 3,
     "metadata": {},
     "output_type": "execute_result"
    }
   ],
   "source": [
    "hypothesis = F.softmax(z,dim=0)\n",
    "hypothesis"
   ]
  },
  {
   "cell_type": "code",
   "execution_count": 4,
   "id": "2abc3fee",
   "metadata": {},
   "outputs": [
    {
     "data": {
      "text/plain": [
       "0.09003057317038046"
      ]
     },
     "execution_count": 4,
     "metadata": {},
     "output_type": "execute_result"
    }
   ],
   "source": [
    "import numpy as np\n",
    "np.exp(1.0)/(np.exp(1.0)+np.exp(2.0)+np.exp(3.0))"
   ]
  },
  {
   "cell_type": "code",
   "execution_count": 5,
   "id": "714d0972",
   "metadata": {},
   "outputs": [
    {
     "data": {
      "text/plain": [
       "0.24472847105479767"
      ]
     },
     "execution_count": 5,
     "metadata": {},
     "output_type": "execute_result"
    }
   ],
   "source": [
    "np.exp(2.0)/(np.exp(1.0)+np.exp(2.0)+np.exp(3.0))"
   ]
  },
  {
   "cell_type": "code",
   "execution_count": 6,
   "id": "0d4a1ff5",
   "metadata": {},
   "outputs": [
    {
     "data": {
      "text/plain": [
       "0.6652409557748219"
      ]
     },
     "execution_count": 6,
     "metadata": {},
     "output_type": "execute_result"
    }
   ],
   "source": [
    "np.exp(3.0)/(np.exp(1.0)+np.exp(2.0)+np.exp(3.0))"
   ]
  },
  {
   "cell_type": "code",
   "execution_count": 7,
   "id": "8ba3baba",
   "metadata": {},
   "outputs": [
    {
     "data": {
      "text/plain": [
       "tensor(1.)"
      ]
     },
     "execution_count": 7,
     "metadata": {},
     "output_type": "execute_result"
    }
   ],
   "source": [
    "hypothesis.sum()"
   ]
  },
  {
   "cell_type": "code",
   "execution_count": 8,
   "id": "2200c3a3",
   "metadata": {},
   "outputs": [],
   "source": [
    "# MNIST"
   ]
  },
  {
   "cell_type": "code",
   "execution_count": 9,
   "id": "86aa0be1",
   "metadata": {},
   "outputs": [],
   "source": [
    "#!pip install torchvision"
   ]
  },
  {
   "cell_type": "code",
   "execution_count": 10,
   "id": "85046f98",
   "metadata": {},
   "outputs": [],
   "source": [
    "import torch\n",
    "import torchvision.datasets as dsets\n",
    "import torchvision.transforms as transforms\n",
    "import matplotlib.pyplot as plt\n",
    "import random\n",
    "device = 'cuda' if torch.cuda.is_available() else 'cpu'"
   ]
  },
  {
   "cell_type": "code",
   "execution_count": 11,
   "id": "5b58d7ad",
   "metadata": {},
   "outputs": [
    {
     "name": "stderr",
     "output_type": "stream",
     "text": [
      "C:\\ProgramData\\Anaconda3\\lib\\site-packages\\torchvision\\datasets\\mnist.py:498: UserWarning: The given NumPy array is not writeable, and PyTorch does not support non-writeable tensors. This means you can write to the underlying (supposedly non-writeable) NumPy array using the tensor. You may want to copy the array to protect its data or make it writeable before converting it to a tensor. This type of warning will be suppressed for the rest of this program. (Triggered internally at  ..\\torch\\csrc\\utils\\tensor_numpy.cpp:180.)\n",
      "  return torch.from_numpy(parsed.astype(m[2], copy=False)).view(*s)\n"
     ]
    }
   ],
   "source": [
    "mnist_train = dsets.MNIST(root='MNIST_data/', train =True, transform = transforms.ToTensor(),download=True)\n",
    "mnist_test = dsets.MNIST(root='MNIST_data/',train= False, transform= transforms.ToTensor(), download=True)"
   ]
  },
  {
   "cell_type": "code",
   "execution_count": 12,
   "id": "e9269b4d",
   "metadata": {},
   "outputs": [],
   "source": [
    "training_epochs = 15\n",
    "batch_size=100\n",
    "data_loader = torch.utils.data.DataLoader(dataset=mnist_train,batch_size=batch_size,shuffle=True, drop_last=True)"
   ]
  },
  {
   "cell_type": "code",
   "execution_count": 13,
   "id": "9d8ffa6e",
   "metadata": {},
   "outputs": [
    {
     "name": "stdout",
     "output_type": "stream",
     "text": [
      "torch.Size([1, 28, 28]) 5\n"
     ]
    }
   ],
   "source": [
    "image,label = mnist_train[0]\n",
    "print(image.shape,label)"
   ]
  },
  {
   "cell_type": "code",
   "execution_count": 14,
   "id": "f5570f18",
   "metadata": {},
   "outputs": [
    {
     "data": {
      "text/plain": [
       "<matplotlib.image.AxesImage at 0x2317ea9a100>"
      ]
     },
     "execution_count": 14,
     "metadata": {},
     "output_type": "execute_result"
    },
    {
     "data": {
      "image/png": "[encoded data removed]",
      "text/plain": [
       "<Figure size 432x288 with 1 Axes>"
      ]
     },
     "metadata": {
      "needs_background": "light"
     },
     "output_type": "display_data"
    }
   ],
   "source": [
    "import matplotlib.pyplot as plt\n",
    "import numpy as np\n",
    "plt.imshow(image.reshape(28,28), cmap='gray')\n",
    "\n",
    "img = np.reshape(image,[28,28])\n",
    "plt.imshow(img, cmap='Greys')"
   ]
  },
  {
   "cell_type": "code",
   "execution_count": 16,
   "id": "32560885",
   "metadata": {},
   "outputs": [],
   "source": [
    "import torch.nn as nn\n",
    "linear = nn.Linear(28*28,10,bias=True)"
   ]
  },
  {
   "cell_type": "code",
   "execution_count": 18,
   "id": "db1c4263",
   "metadata": {},
   "outputs": [],
   "source": [
    "criterion = nn.CrossEntropyLoss()\n",
    "optimizer = torch.optim.SGD(linear.parameters(),lr=0.1)"
   ]
  },
  {
   "cell_type": "code",
   "execution_count": 23,
   "id": "7686caaf",
   "metadata": {},
   "outputs": [
    {
     "name": "stdout",
     "output_type": "stream",
     "text": [
      "Epoch: 0001 cost= 0.253509939\n",
      "Epoch: 0002 cost= 0.253177106\n",
      "Epoch: 0003 cost= 0.252740562\n",
      "Epoch: 0004 cost= 0.252504230\n",
      "Epoch: 0005 cost= 0.252294689\n",
      "Epoch: 0006 cost= 0.252139807\n",
      "Epoch: 0007 cost= 0.251762152\n",
      "Epoch: 0008 cost= 0.251303077\n",
      "Epoch: 0009 cost= 0.251098216\n",
      "Epoch: 0010 cost= 0.250777781\n",
      "Epoch: 0011 cost= 0.250646919\n",
      "Epoch: 0012 cost= 0.250307411\n",
      "Epoch: 0013 cost= 0.250108570\n",
      "Epoch: 0014 cost= 0.249864832\n",
      "Epoch: 0015 cost= 0.249656186\n",
      "Finished\n"
     ]
    }
   ],
   "source": [
    "for epoch in range(training_epochs):\n",
    "    avg_cost = 0\n",
    "    total_batch = len(data_loader)\n",
    "    \n",
    "    for X,y in data_loader:\n",
    "        X = X.view(-1,28*28)\n",
    "        y = y\n",
    "        \n",
    "        hypothesis = linear(X)\n",
    "        cost = criterion(hypothesis,y)\n",
    "        optimizer.zero_grad()\n",
    "        cost.backward()\n",
    "        optimizer.step()\n",
    "        \n",
    "        avg_cost += cost/total_batch\n",
    "    print('Epoch:', '%04d' %(epoch+1), 'cost=',\"{:.9f}\".format(avg_cost))\n",
    "print(\"Finished\")"
   ]
  },
  {
   "cell_type": "code",
   "execution_count": 84,
   "id": "36992209",
   "metadata": {},
   "outputs": [
    {
     "name": "stdout",
     "output_type": "stream",
     "text": [
      "acc: 0.8611000180244446\n",
      "Label: 1\n",
      "Prediction: 1\n"
     ]
    },
    {
     "data": {
      "image/png": "[encoded data removed]",
      "text/plain": [
       "<Figure size 432x288 with 1 Axes>"
      ]
     },
     "metadata": {
      "needs_background": "light"
     },
     "output_type": "display_data"
    }
   ],
   "source": [
    "with torch.no_grad():\n",
    "    X_test = mnist_test.test_data.view(-1,28*28).float()\n",
    "    y_test = mnist_test.test_labels\n",
    "    \n",
    "    prediction = linear(X_test)\n",
    "    \n",
    "    correct_prediction = torch.argmax(prediction,1)==y_test\n",
    "    accuracy = correct_prediction.float().mean()\n",
    "    print(\"acc:\", accuracy.item())\n",
    "    r = random.randint(0,len(mnist_test)-1)\n",
    "    X_single_data = mnist_test.test_data[r:r+1].view(-1, 28*28).float()\n",
    "    y_single_data = mnist_test.test_labels[r:r+1]\n",
    "    print('Label:',y_single_data.item())\n",
    "    single_prediction = linear(X_single_data)\n",
    "    print('Prediction:', torch.argmax(single_prediction,1).item())\n",
    "    \n",
    "    plt.imshow(mnist_test.test_data[r:r+1].view(28,28), cmap='Greys',interpolation='nearest')\n",
    "    plt.show()\n",
    "    "
   ]
  },
  {
   "cell_type": "code",
   "execution_count": null,
   "id": "10935e02",
   "metadata": {},
   "outputs": [],
   "source": []
  },
  {
   "cell_type": "code",
   "execution_count": null,
   "id": "0205d40c",
   "metadata": {},
   "outputs": [],
   "source": [
    "# Neural Network - Deep Learning"
   ]
  },
  {
   "cell_type": "code",
   "execution_count": 94,
   "id": "667c5e74",
   "metadata": {},
   "outputs": [],
   "source": [
    "# layering\n",
    "# nn.Linear(784,10) 784->10\n",
    "# 784 -> 256 -> 256 ->10\n",
    "linear1 = nn.Linear(784,256,bias=True)\n",
    "linear2 = nn.Linear(256,256,bias=True)\n",
    "linear3 = nn.Linear(256,10, bias=True)\n",
    "relu = torch.nn.ReLU()"
   ]
  },
  {
   "cell_type": "code",
   "execution_count": 95,
   "id": "e2558f89",
   "metadata": {},
   "outputs": [
    {
     "data": {
      "text/plain": [
       "Parameter containing:\n",
       "tensor([[-0.5721, -1.4248, -0.4780,  ...,  0.5584, -0.7993, -0.9324],\n",
       "        [-0.0888,  2.3190,  0.0376,  ...,  0.8999,  1.1295, -0.1574],\n",
       "        [ 1.3656,  0.3040, -0.2656,  ..., -0.6270, -1.4982,  1.0582],\n",
       "        ...,\n",
       "        [ 0.2267,  0.5228, -0.5428,  ...,  0.8518, -1.9667,  2.3593],\n",
       "        [ 0.9745, -0.6624, -1.2493,  ...,  1.5282, -0.8254,  1.8908],\n",
       "        [-0.1077, -2.2409, -0.0165,  ..., -0.4245,  0.5392,  0.3811]],\n",
       "       requires_grad=True)"
      ]
     },
     "execution_count": 95,
     "metadata": {},
     "output_type": "execute_result"
    }
   ],
   "source": [
    "nn.init.normal_(linear1.weight)\n",
    "nn.init.normal_(linear2.weight)\n",
    "nn.init.normal_(linear3.weight)"
   ]
  },
  {
   "cell_type": "code",
   "execution_count": 96,
   "id": "435a97be",
   "metadata": {},
   "outputs": [],
   "source": [
    "model = nn.Sequential(linear1,relu,relu,linear2,relu,linear3)"
   ]
  },
  {
   "cell_type": "code",
   "execution_count": 98,
   "id": "7177a215",
   "metadata": {},
   "outputs": [
    {
     "name": "stdout",
     "output_type": "stream",
     "text": [
      "Epoch: 0001 cost= 150.471298218\n",
      "Epoch: 0002 cost= 36.289150238\n",
      "Epoch: 0003 cost= 22.104393005\n",
      "Epoch: 0004 cost= 15.208435059\n",
      "Epoch: 0005 cost= 11.028373718\n",
      "Epoch: 0006 cost= 8.186825752\n",
      "Epoch: 0007 cost= 6.080119133\n",
      "Epoch: 0008 cost= 4.496963978\n",
      "Epoch: 0009 cost= 3.259219170\n",
      "Epoch: 0010 cost= 2.474679947\n",
      "Epoch: 0011 cost= 1.742930293\n",
      "Epoch: 0012 cost= 1.409151077\n",
      "Epoch: 0013 cost= 1.060863614\n",
      "Epoch: 0014 cost= 0.876866817\n",
      "Epoch: 0015 cost= 0.709524095\n",
      "End\n"
     ]
    }
   ],
   "source": [
    "criterion = nn.CrossEntropyLoss()\n",
    "optimizer = torch.optim.Adam(model.parameters(), lr = 0.001)\n",
    "total_batch =len(data_loader)\n",
    "train_epochs = 15\n",
    "batch_size = 100\n",
    "for epoch in range(train_epochs):\n",
    "    avg_cost = 0\n",
    "    for X,y in data_loader:\n",
    "        X=X.view(-1,28*28)\n",
    "        y= y\n",
    "        optimizer.zero_grad()\n",
    "        hyp = model(X)\n",
    "        cost = criterion(hyp,y)\n",
    "        cost.backward()\n",
    "        optimizer.step()\n",
    "        avg_cost+=cost/total_batch\n",
    "    print('Epoch:', \"%04d\" % (epoch+1), 'cost=','{:0.9f}'.format(avg_cost))\n",
    "print(\"End\")"
   ]
  },
  {
   "cell_type": "code",
   "execution_count": 101,
   "id": "2e20f5a5",
   "metadata": {},
   "outputs": [
    {
     "name": "stdout",
     "output_type": "stream",
     "text": [
      "acc: 0.9478999972343445\n",
      "Label: 0\n",
      "Prediction: 0\n"
     ]
    },
    {
     "data": {
      "image/png": "[encoded data removed]",
      "text/plain": [
       "<Figure size 432x288 with 1 Axes>"
      ]
     },
     "metadata": {
      "needs_background": "light"
     },
     "output_type": "display_data"
    }
   ],
   "source": [
    "with torch.no_grad():\n",
    "    X_test = mnist_test.test_data.view(-1,28*28).float()\n",
    "    y_test = mnist_test.test_labels\n",
    "    \n",
    "    prediction = model(X_test)\n",
    "    \n",
    "    correct_prediction = torch.argmax(prediction,1)==y_test\n",
    "    accuracy = correct_prediction.float().mean()\n",
    "    print(\"acc:\", accuracy.item())\n",
    "    r = random.randint(0,len(mnist_test)-1)\n",
    "    X_single_data = mnist_test.test_data[r:r+1].view(-1, 28*28).float()\n",
    "    y_single_data = mnist_test.test_labels[r:r+1]\n",
    "    print('Label:',y_single_data.item())\n",
    "    single_prediction = model(X_single_data)\n",
    "    print('Prediction:', torch.argmax(single_prediction,1).item())\n",
    "    \n",
    "    plt.imshow(mnist_test.test_data[r:r+1].view(28,28), cmap='Greys',interpolation='nearest')\n",
    "    plt.show()\n",
    "    "
   ]
  }
 ],
 "metadata": {
  "kernelspec": {
   "display_name": "Python 3",
   "language": "python",
   "name": "python3"
  },
  "language_info": {
   "codemirror_mode": {
    "name": "ipython",
    "version": 3
   },
   "file_extension": ".py",
   "mimetype": "text/x-python",
   "name": "python",
   "nbconvert_exporter": "python",
   "pygments_lexer": "ipython3",
   "version": "3.8.8"
  }
 },
 "nbformat": 4,
 "nbformat_minor": 5
}
