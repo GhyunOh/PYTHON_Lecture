{
 "cells": [
  {
   "cell_type": "code",
   "execution_count": 49,
   "id": "59acd65b",
   "metadata": {},
   "outputs": [],
   "source": [
    "from urllib.parse import urlencode, quote_plus\n",
    "from sklearn.linear_model import LogisticRegression\n",
    "from sklearn.metrics import confusion_matrix\n",
    "from pandas import DataFrame\n",
    "import seaborn as sns\n",
    "from urllib import parse\n",
    "import requests as rq\n",
    "import json \n",
    "import pandas as pd \n",
    "from pandas.io.json import json_normalize\n",
    "from json import JSONDecodeError\n",
    "from sklearn.svm import SVC\n",
    "from sklearn.model_selection import train_test_split\n",
    "from sklearn.linear_model import Lasso\n",
    "from sklearn.preprocessing import StandardScaler\n",
    "import pandas as pd \n",
    "import numpy as np\n",
    "from sklearn.ensemble import RandomForestClassifier\n",
    "from sklearn.linear_model import Ridge\n",
    "from sklearn.model_selection import cross_val_score\n",
    "import plotly.graph_objects as go\n",
    "import plotly.figure_factory as ff\n",
    "import matplotlib.pyplot as plt\n",
    "plt.rc(\"font\", family = \"Malgun Gothic\")\n",
    "plt.rc(\"axes\", unicode_minus = False)\n",
    "plt.rcParams['axes.grid'] = True"
   ]
  },
  {
   "cell_type": "code",
   "execution_count": null,
   "id": "fc39ccd1",
   "metadata": {},
   "outputs": [],
   "source": [
    "url = 'http://apis.data.go.kr/1360000/AsosDalyInfoService/getWthrDataList'"
   ]
  },
  {
   "cell_type": "code",
   "execution_count": null,
   "id": "8e9a177f",
   "metadata": {},
   "outputs": [],
   "source": [
    "data = {}\n",
    "header = ['stnId', 'stnNm', 'tm', 'avgTa', 'minTa', 'minTaHrmt', 'maxTa',\n",
    "       'maxTaHrmt', 'mi10MaxRn', 'mi10MaxRnHrmt', 'hr1MaxRn', 'hr1MaxRnHrmt',\n",
    "       'sumRnDur', 'sumRn', 'maxInsWs', 'maxInsWsWd', 'maxInsWsHrmt', 'maxWs',\n",
    "       'maxWsWd', 'maxWsHrmt', 'avgWs', 'hr24SumRws', 'maxWd', 'avgTd',\n",
    "       'minRhm', 'minRhmHrmt', 'avgRhm', 'avgPv', 'avgPa', 'maxPs',\n",
    "       'maxPsHrmt', 'minPs', 'minPsHrmt', 'avgPs', 'ssDur', 'sumSsHr',\n",
    "       'hr1MaxIcsrHrmt', 'hr1MaxIcsr', 'sumGsr', 'ddMefs', 'ddMefsHrmt',\n",
    "       'ddMes', 'ddMesHrmt', 'sumDpthFhsc', 'avgTca', 'avgLmac', 'avgTs',\n",
    "       'minTg', 'avgCm5Te', 'avgCm10Te', 'avgCm20Te', 'avgCm30Te', 'avgM05Te',\n",
    "       'avgM10Te', 'avgM15Te', 'avgM30Te', 'avgM50Te', 'sumLrgEv', 'sumSmlEv',\n",
    "       'n99Rn', 'iscs', 'sumFogDur']\n",
    "region_code = [90,93,95,98,99,100,101,102,104,105,106,108,112,114,115,119,121,127,129,130,131,133,135,136,\n",
    "               137,138,140,143,146,152,155,156,159,162,165,168,169,170,172,174,177,184,185,188,189,192,212,\n",
    "               216,217,221,226,232,235,236,238,239,243,244,245,247,248,251,252,253,254,255,257,258,259,260,\n",
    "               261,262,263,264,266,268,271,272,273,276,277,278,279,281,283,284,285,288,289,294,295]\n",
    "df = pd.DataFrame(columns=header)"
   ]
  },
  {
   "cell_type": "code",
   "execution_count": null,
   "id": "e8f7b0be",
   "metadata": {},
   "outputs": [],
   "source": [
    "for region in region_code:\n",
    "    for year in range(2010,2021):\n",
    "        start_month = str(year) + \"0605\"\n",
    "        end_month = str(year) +\"0805\"\n",
    "        for page in range(1,8):\n",
    "            queryParams = '?' + parse.urlencode({ parse.quote_plus('ServiceKey') : 'VFK/ktW6424VcSedQvSsbOj745JgyeOZ9uyna9yP8uNQX7CMlQzoAlc+6eNdEre+mDUUtoP7l2MMUonKrjXnTg==',\n",
    "                                           parse.quote_plus('pageNo') : page,\n",
    "                                           parse.quote_plus('numOfRows') : '10',\n",
    "                                           parse.quote_plus('dataType') : 'JSON',\n",
    "                                           parse.quote_plus('dataCd') : 'ASOS',\n",
    "                                           parse.quote_plus('dateCd') : 'DAY',\n",
    "                                           parse.quote_plus('startDt') : start_month,\n",
    "                                           parse.quote_plus('endDt') : end_month,\n",
    "                                           parse.quote_plus('stnIds') : region })\n",
    "            request = rq.get(url + queryParams)\n",
    "            try:\n",
    "                data = request.json()\n",
    "                new_df = pd.json_normalize(data['response']['body']['items']['item'])\n",
    "            except (JSONDecodeError,KeyError):\n",
    "                pass\n",
    "            else:\n",
    "                print(region,\" \",year)\n",
    "                df = df.append(new_df, ignore_index = True)"
   ]
  },
  {
   "cell_type": "code",
   "execution_count": null,
   "id": "75878121",
   "metadata": {},
   "outputs": [],
   "source": [
    "df.to_csv(\"./data.txt\",sep = ',',encoding='utf-8-sig',index=False)"
   ]
  },
  {
   "cell_type": "code",
   "execution_count": 5,
   "id": "7ee29d5e",
   "metadata": {},
   "outputs": [],
   "source": [
    "data = pd.read_csv(\"./data.txt\")\n",
    "data = data.drop(['stnId','stnNm','tm',\"mi10MaxRn\",\"mi10MaxRnHrmt\",'hr1MaxRn','hr1MaxRnHrmt',\n",
    "                  'hr1MaxIcsrHrmt','hr1MaxIcsr','sumDpthFhsc',\"sumGsr\",\"ddMefs\",\"ddMefsHrmt\",\"ddMes\",\"ddMesHrmt\",\n",
    "                 'avgCm5Te',\"avgCm10Te\",\"avgCm20Te\",\"avgCm30Te\",\"avgM05Te\",\"avgM10Te\",\"avgM15Te\",\n",
    "                  \"avgM30Te\",\"avgM50Te\",\"sumLrgEv\",\"sumSmlEv\",'sumFogDur'],axis=1)\n",
    "data[\"iscs\"] = data[\"iscs\"].fillna(0)\n",
    "data[\"iscs\"].where(data[\"iscs\"]==0,other=1,inplace=True)\n",
    "data[\"sumRnDur\"] = data[\"sumRnDur\"].fillna(0)\n",
    "data[\"sumRn\"] = data[\"sumRn\"].fillna(0)\n",
    "data[\"avgLmac\"] = data[\"avgLmac\"].fillna(0)\n",
    "data[\"n99Rn\"] = data[\"n99Rn\"].fillna(0)\n",
    "data[\"avgTca\"] = data[\"avgTca\"].fillna(0)\n",
    "data = data.dropna(axis=0)\n",
    "y = data[\"iscs\"]\n",
    "X = data.drop(['iscs'],axis=1)\n",
    "scaler = StandardScaler()\n",
    "scaler.fit(X)\n",
    "X_train,X_test,y_train,y_test = train_test_split(X,y,test_size=0.25,random_state=44)\n",
    "y_train = y_train.astype('int')\n",
    "y_test = y_test.astype('int')"
   ]
  },
  {
   "cell_type": "code",
   "execution_count": 6,
   "id": "829e36ae",
   "metadata": {
    "scrolled": false
   },
   "outputs": [
    {
     "name": "stdout",
     "output_type": "stream",
     "text": [
      "0.5294339598294424\n",
      "0.5230139813320489\n"
     ]
    }
   ],
   "source": [
    "lasso = Lasso(alpha = 0.0001,max_iter = 1000000)\n",
    "lasso.fit(X_train,y_train)\n",
    "print(lasso.score(X_train,y_train))\n",
    "print(lasso.score(X_test,y_test))"
   ]
  },
  {
   "cell_type": "code",
   "execution_count": 7,
   "id": "95ef8671",
   "metadata": {
    "scrolled": true
   },
   "outputs": [
    {
     "name": "stdout",
     "output_type": "stream",
     "text": [
      "0.5294450787865974\n",
      "0.5229966403274311\n"
     ]
    }
   ],
   "source": [
    "model = Ridge(alpha=0.0001)\n",
    "model.fit(X_train, y_train)\n",
    "print(model.score(X_train,y_train))\n",
    "print(model.score(X_test,y_test))"
   ]
  },
  {
   "cell_type": "code",
   "execution_count": 8,
   "id": "7d1f356d",
   "metadata": {},
   "outputs": [],
   "source": [
    "category = [\"평균 기온\",\"최저 기온\",\"최저 기온 시각\",\"최고 기온\",\"최고 기온 시각\",\"강수 계속시간\",\n",
    "            \"일강수량\",\"최대 순간풍속\",\"최대 순간 풍속 풍향\",\"최대 순간풍속 시각\",\"최대 풍속\",\"최대 풍속 풍향\",\"최대 풍속 시각\",\n",
    "            \"평균 풍속\",\"풍정합\",\"최다 풍향\",\"평균 이슬점온도\",\"최소 상대습도\",\"평균 상대습도 시각\",\"평균 상대습도\",\n",
    "            \"평균 증기압\",\"평균 현지기압\",\"최고 해면 기압\",\"최고 해면기압 시각\",\"최저 해면기압\",\n",
    "            \"최저 해면기압 시각\",\"평균 해면기압\",\"가조시간\",\"합계 일조 시간\",\"평균 전운량\",\"평균 중하층운량\",\"평균 지면온도\",\n",
    "            \"최저 초상온도\",\"9-9강수\"]"
   ]
  },
  {
   "cell_type": "code",
   "execution_count": 9,
   "id": "5d022ee4",
   "metadata": {
    "scrolled": false
   },
   "outputs": [
    {
     "data": {
      "image/png": "[encoded data removed]",
      "text/plain": [
       "<Figure size 1008x576 with 1 Axes>"
      ]
     },
     "metadata": {
      "needs_background": "light"
     },
     "output_type": "display_data"
    }
   ],
   "source": [
    "lasso = Lasso(alpha = 0.0001,max_iter = 1000000)\n",
    "lasso.fit(X_train,y_train)\n",
    "\n",
    "model = Ridge(alpha=0.0001)\n",
    "model.fit(X_train, y_train)\n",
    "\n",
    "plt.figure(figsize=(14,8))\n",
    "plt.plot(model.coef_,'s',c=\"red\",label=\"Ridge\",markersize=12)\n",
    "plt.plot(lasso.coef_,'^',c=\"yellow\",label='Lasso',markersize=12)\n",
    "plt.xticks(range(X_train.shape[1]),category,rotation=60)\n",
    "plt.axhline(y=0,c=\"blue\")\n",
    "plt.title(\"Ridge and Lasso Auto Feature Selection\")\n",
    "plt.legend()\n",
    "plt.show()"
   ]
  },
  {
   "cell_type": "code",
   "execution_count": null,
   "id": "56701e20",
   "metadata": {},
   "outputs": [],
   "source": [
    "data = pd.read_csv(\"./data.txt\")\n",
    "data = data.drop(['stnId','stnNm','tm',\"mi10MaxRn\",\"mi10MaxRnHrmt\",'hr1MaxRn','hr1MaxRnHrmt',\n",
    "                  'hr1MaxIcsrHrmt','hr1MaxIcsr','sumDpthFhsc',\"sumGsr\",\"ddMefs\",\"ddMefsHrmt\",\"ddMes\",\"ddMesHrmt\",\n",
    "                 'avgCm5Te',\"avgCm10Te\",\"avgCm20Te\",\"avgCm30Te\",\"avgM05Te\",\"avgM10Te\",\"avgM15Te\",\n",
    "                  \"avgM30Te\",\"avgM50Te\",\"sumLrgEv\",\"sumSmlEv\",'sumFogDur'],axis=1)\n",
    "data[\"iscs\"] = data[\"iscs\"].fillna(0)\n",
    "data[\"iscs\"].where(data[\"iscs\"]==0,other=1,inplace=True)\n",
    "data[\"sumRnDur\"] = data[\"sumRnDur\"].fillna(0)\n",
    "data[\"sumRn\"] = data[\"sumRn\"].fillna(0)\n",
    "data[\"avgLmac\"] = data[\"avgLmac\"].fillna(0)\n",
    "data[\"n99Rn\"] = data[\"n99Rn\"].fillna(0)\n",
    "data[\"avgTca\"] = data[\"avgTca\"].fillna(0)\n",
    "data = data.dropna(axis=0)\n",
    "y = data[\"iscs\"]\n",
    "X = data[[\"avgTa\",\"sumRn\",\"avgWs\",\"avgRhm\",\"avgTd\",\"avgPa\"]]\n",
    "scaler = StandardScaler()\n",
    "scaler.fit(X)\n",
    "X_train,X_test,y_train,y_test = train_test_split(X,y,test_size=0.25,random_state=44)\n",
    "y_train = y_train.astype('int')\n",
    "y_test = y_test.astype('int')"
   ]
  },
  {
   "cell_type": "code",
   "execution_count": null,
   "id": "7e9bb988",
   "metadata": {},
   "outputs": [],
   "source": [
    "svm_model = SVC(gamma='auto')\n",
    "svm_model.fit(X_train,y_train)\n",
    "print(svm_model.score(X_train,y_train))\n",
    "print(svm_model.score(X_test,y_test))"
   ]
  },
  {
   "cell_type": "code",
   "execution_count": null,
   "id": "84fc142d",
   "metadata": {
    "scrolled": true
   },
   "outputs": [],
   "source": [
    "model = RandomForestClassifier(max_depth=2, random_state=0)\n",
    "model.fit(X_train, y_train)\n",
    "print(model.score(X_train,y_train))\n",
    "print(model.score(X_test,y_test))"
   ]
  },
  {
   "cell_type": "code",
   "execution_count": null,
   "id": "c8d10063",
   "metadata": {},
   "outputs": [],
   "source": [
    "label = np.array([\"Lasso\",\"Ridge\",\"SVM\",\"RandomForest\"])\n",
    "train_score = np.array([0.5294339598294424,0.5294450787865974,0.8125838475986048,0.7109381987299884])\n",
    "test_score = np.array([0.5230139813320489,0.5229966403274311,0.7289556643638071,0.7122543430142867])\n",
    "train_score = train_score * 100\n",
    "test_score = test_score * 100\n",
    "trace1 = go.Bar(x=label, y=train_score, xaxis='x2', yaxis='y2',\n",
    "                marker=dict(color='#0099ff'),\n",
    "                name='train_score')\n",
    "trace2 = go.Bar(x=label, y=test_score, xaxis='x2', yaxis='y2',\n",
    "                marker=dict(color='#404040'),\n",
    "                name='test_score')\n",
    "# Plot!\n",
    "f = go.FigureWidget()\n",
    "f.add_traces([trace1, trace2])\n",
    "f.layout.update({'title': 'Score of Scaled and Selected Features'})\n",
    "f.show()"
   ]
  },
  {
   "cell_type": "code",
   "execution_count": 10,
   "id": "f4c020d4",
   "metadata": {},
   "outputs": [],
   "source": [
    "data = pd.read_csv(\"./data.txt\")\n",
    "data = data.drop(['stnId','stnNm','tm',\"mi10MaxRn\",\"mi10MaxRnHrmt\",'hr1MaxRn','hr1MaxRnHrmt',\n",
    "                  'hr1MaxIcsrHrmt','hr1MaxIcsr','sumDpthFhsc',\"sumGsr\",\"ddMefs\",\"ddMefsHrmt\",\"ddMes\",\"ddMesHrmt\",\n",
    "                 'avgCm5Te',\"avgCm10Te\",\"avgCm20Te\",\"avgCm30Te\",\"avgM05Te\",\"avgM10Te\",\"avgM15Te\",\n",
    "                  \"avgM30Te\",\"avgM50Te\",\"sumLrgEv\",\"sumSmlEv\",'sumFogDur'],axis=1)\n",
    "data[\"iscs\"] = data[\"iscs\"].fillna(0)\n",
    "data[\"iscs\"].where(data[\"iscs\"]==0,other=1,inplace=True)\n",
    "data[\"sumRnDur\"] = data[\"sumRnDur\"].fillna(0)\n",
    "data[\"sumRn\"] = data[\"sumRn\"].fillna(0)\n",
    "data[\"avgLmac\"] = data[\"avgLmac\"].fillna(0)\n",
    "data[\"n99Rn\"] = data[\"n99Rn\"].fillna(0)\n",
    "data[\"avgTca\"] = data[\"avgTca\"].fillna(0)\n",
    "data = data.dropna(axis=0)\n",
    "y = data[\"iscs\"]\n",
    "X = data.drop(['iscs'],axis=1)\n",
    "scaler = StandardScaler()\n",
    "scaler.fit(X)\n",
    "X_train,X_test,y_train,y_test = train_test_split(X,y,test_size=0.25,random_state=44)\n",
    "y_train = y_train.astype('int')\n",
    "y_test = y_test.astype('int')"
   ]
  },
  {
   "cell_type": "code",
   "execution_count": null,
   "id": "be62aeb2",
   "metadata": {},
   "outputs": [],
   "source": [
    "label = np.array([\"SVM\",\"RandomForest\"])\n",
    "train_score = np.array([1.0,0.8518916018245237])\n",
    "test_score = np.array([0.7122543430142867,0.849956402173184])\n",
    "train_score = train_score * 100\n",
    "test_score = test_score * 100\n",
    "trace1 = go.Bar(x=label, y=train_score, xaxis='x2', yaxis='y2',\n",
    "                marker=dict(color='#ffdab9'),\n",
    "                name='train_score')\n",
    "trace2 = go.Bar(x=label, y=test_score, xaxis='x2', yaxis='y2',\n",
    "                marker=dict(color='#eee8aa'),\n",
    "                name='test_score')\n",
    "# Plot!\n",
    "f = go.FigureWidget()\n",
    "f.add_traces([trace1, trace2])\n",
    "f.layout.update({'title': 'Score of SVM and RandomForest without Feature Selection'})\n",
    "f.show()"
   ]
  },
  {
   "cell_type": "code",
   "execution_count": null,
   "id": "2ee637a0",
   "metadata": {},
   "outputs": [],
   "source": [
    "train_score = []\n",
    "test_score = []\n",
    "for i in range(2,17):\n",
    "    model = RandomForestClassifier(max_depth=i, random_state=0)\n",
    "    model.fit(X_train, y_train)\n",
    "    train_score.append(model.score(X_train,y_train))\n",
    "    test_score.append(model.score(X_test,y_test))\n",
    "train_score = np.array(train_score)\n",
    "test_score = np.array(test_score)\n",
    "train_score = train_score * 100\n",
    "test_score = test_score * 100\n",
    "label = [\"2\",'3','4',\"5\",'6','7','8','9','10',\"11\",'12',\"13\",'14','15',\"16\"]\n",
    "fig = go.Figure()\n",
    "fig.add_trace(go.Scatter(x=label, y=train_score,\n",
    "                    mode='lines+markers',\n",
    "                    name='train_score'))\n",
    "fig.add_trace(go.Scatter(x=label, y=test_score,\n",
    "                    mode='lines+markers',\n",
    "                    name='test_score'))\n",
    "\n",
    "fig.layout.update({'title': 'Difference of RandomForest\\'s Depth'})\n",
    "fig.show()"
   ]
  },
  {
   "cell_type": "code",
   "execution_count": 11,
   "id": "c518483e",
   "metadata": {},
   "outputs": [
    {
     "data": {
      "image/png": "[encoded data removed]",
      "text/plain": [
       "<Figure size 432x288 with 1 Axes>"
      ]
     },
     "metadata": {
      "needs_background": "light"
     },
     "output_type": "display_data"
    }
   ],
   "source": [
    "model = RandomForestClassifier(max_depth=10, random_state=0)\n",
    "model.fit(X_train, y_train)\n",
    "score2 = model.score(X_test,y_test)\n",
    "score2 = np.array(score2)\n",
    "score2 = score2 * 100\n",
    "score1 = cross_val_score(model,X_test,y_test)\n",
    "score1 = np.array(score1)\n",
    "score1 = score1 * 100\n",
    "x = [\"1\",\"2\",\"3\",\"4\",\"5\"]\n",
    "flg = plt.figure()\n",
    "chart = flg.add_subplot(1, 1, 1)\n",
    "chart.scatter(x,score1,c=\"green\")\n",
    "chart.axhline(y=score1.mean(),c=\"blue\",label=\"Mean of Cross Validation\")\n",
    "chart.axhline(y=score2,c=\"red\",label=\"Test Score\")\n",
    "plt.title(\"Compare with Cross Validation and Test Scores (Depth = 10)\")\n",
    "plt.legend()\n",
    "plt.show()"
   ]
  },
  {
   "cell_type": "code",
   "execution_count": 21,
   "id": "5a58edd5",
   "metadata": {},
   "outputs": [],
   "source": [
    "data = pd.read_csv(\"./data1.txt\")\n",
    "data = data.drop(['stnId','stnNm','tm',\"mi10MaxRn\",\"mi10MaxRnHrmt\",'hr1MaxRn','hr1MaxRnHrmt',\n",
    "                  'hr1MaxIcsrHrmt','hr1MaxIcsr','sumDpthFhsc',\"sumGsr\",\"ddMefs\",\"ddMefsHrmt\",\"ddMes\",\"ddMesHrmt\",\n",
    "                 'avgCm5Te',\"avgCm10Te\",\"avgCm20Te\",\"avgCm30Te\",\"avgM05Te\",\"avgM10Te\",\"avgM15Te\",\n",
    "                  \"avgM30Te\",\"avgM50Te\",\"sumLrgEv\",\"sumSmlEv\",'sumFogDur'],axis=1)\n",
    "data[\"iscs\"] = data[\"iscs\"].fillna(0)\n",
    "data[\"iscs\"].where(data[\"iscs\"]==0,other=1,inplace=True)\n",
    "data[\"sumRnDur\"] = data[\"sumRnDur\"].fillna(0)\n",
    "data[\"sumRn\"] = data[\"sumRn\"].fillna(0)\n",
    "data[\"avgLmac\"] = data[\"avgLmac\"].fillna(0)\n",
    "data[\"n99Rn\"] = data[\"n99Rn\"].fillna(0)\n",
    "data[\"avgTca\"] = data[\"avgTca\"].fillna(0)\n",
    "data = data.dropna(axis=0)\n",
    "y = data[\"iscs\"]\n",
    "X = data.drop(['iscs'],axis=1)\n",
    "y = list(y)\n",
    "y_predict = model.predict(X)"
   ]
  },
  {
   "cell_type": "code",
   "execution_count": 29,
   "id": "c7c8abb0",
   "metadata": {},
   "outputs": [
    {
     "name": "stdout",
     "output_type": "stream",
     "text": [
      "예상: [0, 1, 0, 0, 0, 1, 1, 0, 0, 1, 1, 0, 1, 1, 0, 0, 0, 0, 1, 0, 1, 1, 1, 1, 1, 1, 0, 1, 1, 1, 1, 1, 1, 1, 1, 1] \n",
      "정답: [1, 1, 0, 0, 0, 1, 1, 1, 1, 1, 1, 0, 1, 1, 0, 1, 1, 0, 1, 1, 1, 1, 1, 1, 1, 1, 1, 0, 1, 1, 1, 1, 1, 1, 1, 1]\n",
      "23\n",
      "36\n"
     ]
    }
   ],
   "source": [
    "print(\"예상:\",list(y_predict),\"\\n정답:\",y)\n",
    "print(y_predict.sum())\n",
    "print(len(y))"
   ]
  },
  {
   "cell_type": "code",
   "execution_count": 50,
   "id": "de784dae",
   "metadata": {},
   "outputs": [
    {
     "data": {
      "image/png": "[encoded data removed]",
      "text/plain": [
       "<Figure size 432x288 with 2 Axes>"
      ]
     },
     "metadata": {
      "needs_background": "light"
     },
     "output_type": "display_data"
    }
   ],
   "source": [
    "cf_matrix = confusion_matrix(y, y_predict)\n",
    "a = [\"True\",\"False\"]\n",
    "df_matrix = DataFrame(cf_matrix,index = [i for i in a],\n",
    "                     columns = [i for i in a])\n",
    "group_names = [\"True Neg\",\"False Pos\",\"False Neg\",\"True Pos\"]\n",
    "group_counts = [\"{0:0.0f}\".format(value) for value in\n",
    "                cf_matrix.flatten()]\n",
    "group_percentages = [\"{0:.2%}\".format(value) for value in\n",
    "                     cf_matrix.flatten()/np.sum(cf_matrix)]\n",
    "labels = [f\"{v1}\\n{v2}\\n{v3}\" for v1, v2, v3 in\n",
    "          zip(group_names,group_counts,group_percentages)]\n",
    "labels = np.asarray(labels).reshape(2,2)\n",
    "sns.heatmap(df_matrix, annot=labels, fmt=\"\", cmap='Blues')\n",
    "plt.title(\"혼돈행렬을 통한 평가지표\")\n",
    "plt.show()"
   ]
  }
 ],
 "metadata": {
  "kernelspec": {
   "display_name": "Python 3",
   "language": "python",
   "name": "python3"
  },
  "language_info": {
   "codemirror_mode": {
    "name": "ipython",
    "version": 3
   },
   "file_extension": ".py",
   "mimetype": "text/x-python",
   "name": "python",
   "nbconvert_exporter": "python",
   "pygments_lexer": "ipython3",
   "version": "3.8.8"
  }
 },
 "nbformat": 4,
 "nbformat_minor": 5
}
