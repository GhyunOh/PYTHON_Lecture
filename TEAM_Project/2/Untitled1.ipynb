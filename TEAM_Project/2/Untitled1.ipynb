{
 "cells": [
  {
   "cell_type": "code",
   "execution_count": 2,
   "id": "59acd65b",
   "metadata": {},
   "outputs": [],
   "source": [
    "from sklearn.svm import SVC\n",
    "from sklearn.model_selection import train_test_split\n",
    "from sklearn.linear_model import Lasso\n",
    "from sklearn.preprocessing import StandardScaler\n",
    "from sklearn.preprocessing import MinMaxScaler\n",
    "from urllib.parse import urlencode, quote_plus\n",
    "from urllib import parse\n",
    "import requests as rq\n",
    "import json \n",
    "import pandas as pd \n",
    "from pandas.io.json import json_normalize\n",
    "from json import JSONDecodeError"
   ]
  },
  {
   "cell_type": "code",
   "execution_count": 3,
   "id": "5ca8e251",
   "metadata": {},
   "outputs": [],
   "source": [
    "data = pd.read_csv(\"./data.txt\")\n",
    "data = data.drop(['stnId','stnNm','tm',\"mi10MaxRn\",\"mi10MaxRnHrmt\",'hr1MaxRn','hr1MaxRnHrmt',\n",
    "                  'hr1MaxIcsrHrmt','hr1MaxIcsr','sumDpthFhsc','sumFogDur','sumRnDur','sumRn',\n",
    "                  'n99Rn',\"sumGsr\",\"ddMefs\",\"ddMefsHrmt\",\"ddMes\",\"ddMesHrmt\",'avgTca','avgLmac',\n",
    "                 'avgCm5Te',\"avgCm10Te\",\"avgCm20Te\",\"avgCm30Te\",\"avgM05Te\",\"avgM10Te\",\"avgM15Te\",\n",
    "                  \"avgM30Te\",\"avgM50Te\",\"sumLrgEv\",\"sumSmlEv\"],axis=1)\n",
    "data[\"iscs\"] = data[\"iscs\"].fillna(0)\n",
    "data[\"iscs\"].where(data[\"iscs\"]==0,other=1,inplace=True)\n",
    "data = data.dropna(axis=0)\n",
    "y = data[\"iscs\"]\n",
    "X = data.drop(['iscs'],axis=1)\n",
    "X_train,X_test,y_train,y_test = train_test_split(X,y,test_size=0.25,random_state=44)\n",
    "y_train = y_train.astype('int')"
   ]
  },
  {
   "cell_type": "code",
   "execution_count": 4,
   "id": "b15bf88b",
   "metadata": {},
   "outputs": [
    {
     "name": "stdout",
     "output_type": "stream",
     "text": [
      "0.12792633144915166\n",
      "0.12060067187147794\n"
     ]
    }
   ],
   "source": [
    "lasso = Lasso(alpha = 0.0001,max_iter = 1000000)\n",
    "lasso.fit(X_train,y_train)\n",
    "print(lasso.score(X_train,y_train))\n",
    "print(lasso.score(X_test,y_test))"
   ]
  },
  {
   "cell_type": "code",
   "execution_count": null,
   "id": "2639fd32",
   "metadata": {},
   "outputs": [],
   "source": [
    "data = pd.read_csv(\"./data.txt\")\n",
    "data = data.drop(['stnId','stnNm','tm',\"mi10MaxRn\",\"mi10MaxRnHrmt\",'hr1MaxRn','hr1MaxRnHrmt',\n",
    "                  'hr1MaxIcsrHrmt','hr1MaxIcsr','sumDpthFhsc','sumFogDur','sumRnDur','sumRn',\n",
    "                  'n99Rn',\"sumGsr\",\"ddMefs\",\"ddMefsHrmt\",\"ddMes\",\"ddMesHrmt\",'avgTca','avgLmac',\n",
    "                 'avgCm5Te',\"avgCm10Te\",\"avgCm20Te\",\"avgCm30Te\",\"avgM05Te\",\"avgM10Te\",\"avgM15Te\",\n",
    "                  \"avgM30Te\",\"avgM50Te\",\"sumLrgEv\",\"sumSmlEv\"],axis=1)\n",
    "data[\"iscs\"] = data[\"iscs\"].fillna(0)\n",
    "data[\"iscs\"].where(data[\"iscs\"]==0,other=1,inplace=True)\n",
    "data = data.dropna(axis=0)\n",
    "y = data[\"iscs\"]\n",
    "X = data.drop(['iscs'],axis=1)\n",
    "X_train,X_test,y_train,y_test = train_test_split(X,y,test_size=0.25,random_state=44)\n",
    "y_train = y_train.astype('int')"
   ]
  },
  {
   "cell_type": "code",
   "execution_count": null,
   "id": "fe132aac",
   "metadata": {},
   "outputs": [],
   "source": [
    "svm_model = SVC(kernel='rbf',C=8,gamma=0.1)\n",
    "svm_model.fit(X_train,y_train)"
   ]
  }
 ],
 "metadata": {
  "kernelspec": {
   "display_name": "Python 3",
   "language": "python",
   "name": "python3"
  },
  "language_info": {
   "codemirror_mode": {
    "name": "ipython",
    "version": 3
   },
   "file_extension": ".py",
   "mimetype": "text/x-python",
   "name": "python",
   "nbconvert_exporter": "python",
   "pygments_lexer": "ipython3",
   "version": "3.8.8"
  }
 },
 "nbformat": 4,
 "nbformat_minor": 5
}
