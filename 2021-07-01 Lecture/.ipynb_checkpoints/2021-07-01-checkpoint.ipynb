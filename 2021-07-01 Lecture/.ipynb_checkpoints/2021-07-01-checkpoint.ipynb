{
 "cells": [
  {
   "cell_type": "code",
   "execution_count": 1,
   "id": "ba469380",
   "metadata": {},
   "outputs": [
    {
     "data": {
      "image/png": "[encoded data removed]",
      "text/plain": [
       "<Figure size 432x288 with 1 Axes>"
      ]
     },
     "metadata": {
      "needs_background": "light"
     },
     "output_type": "display_data"
    }
   ],
   "source": [
    "import mglearn\n",
    "mglearn.plots.plot_binary_confusion_matrix()"
   ]
  },
  {
   "cell_type": "code",
   "execution_count": 2,
   "id": "ae412140",
   "metadata": {},
   "outputs": [
    {
     "name": "stdout",
     "output_type": "stream",
     "text": [
      "Requirement already satisfied: torch in c:\\programdata\\anaconda3\\lib\\site-packages (1.9.0)\n"
     ]
    },
    {
     "name": "stderr",
     "output_type": "stream",
     "text": [
      "ERROR: Could not find a version that satisfies the requirement cuda-gpu\n",
      "ERROR: No matching distribution found for cuda-gpu\n"
     ]
    }
   ],
   "source": [
    "!pip install torch cuda-gpu"
   ]
  },
  {
   "cell_type": "code",
   "execution_count": 3,
   "id": "19922c97",
   "metadata": {},
   "outputs": [],
   "source": [
    "import torch\n",
    "import numpy as np"
   ]
  },
  {
   "cell_type": "code",
   "execution_count": 4,
   "id": "1c779371",
   "metadata": {},
   "outputs": [
    {
     "data": {
      "text/plain": [
       "'1.9.0+cpu'"
      ]
     },
     "execution_count": 4,
     "metadata": {},
     "output_type": "execute_result"
    }
   ],
   "source": [
    "torch.__version__"
   ]
  },
  {
   "cell_type": "code",
   "execution_count": 5,
   "id": "af8a96ed",
   "metadata": {},
   "outputs": [],
   "source": [
    "data = [[1,2],[3,4]]\n",
    "np_data = np.array(data)"
   ]
  },
  {
   "cell_type": "code",
   "execution_count": 6,
   "id": "91f57116",
   "metadata": {},
   "outputs": [
    {
     "data": {
      "text/plain": [
       "array([[1, 2],\n",
       "       [3, 4]])"
      ]
     },
     "execution_count": 6,
     "metadata": {},
     "output_type": "execute_result"
    }
   ],
   "source": [
    "np_data"
   ]
  },
  {
   "cell_type": "code",
   "execution_count": 7,
   "id": "e6e0f765",
   "metadata": {},
   "outputs": [
    {
     "data": {
      "text/plain": [
       "[[1, 2], [3, 4]]"
      ]
     },
     "execution_count": 7,
     "metadata": {},
     "output_type": "execute_result"
    }
   ],
   "source": [
    "data"
   ]
  },
  {
   "cell_type": "code",
   "execution_count": 8,
   "id": "a4c78ad0",
   "metadata": {},
   "outputs": [],
   "source": [
    "x_data = torch.tensor(data)"
   ]
  },
  {
   "cell_type": "code",
   "execution_count": 9,
   "id": "3b279142",
   "metadata": {},
   "outputs": [],
   "source": [
    "x_data_f = torch.FloatTensor(data)"
   ]
  },
  {
   "cell_type": "code",
   "execution_count": 10,
   "id": "99801ca7",
   "metadata": {},
   "outputs": [
    {
     "data": {
      "text/plain": [
       "tensor([[3., 7.]])"
      ]
     },
     "execution_count": 10,
     "metadata": {},
     "output_type": "execute_result"
    }
   ],
   "source": [
    "t1 = torch.FloatTensor([[1,3]])\n",
    "t2 = torch.FloatTensor([[2,4]])\n",
    "t1+ t2"
   ]
  },
  {
   "cell_type": "code",
   "execution_count": 11,
   "id": "84d543d2",
   "metadata": {},
   "outputs": [
    {
     "data": {
      "text/plain": [
       "tensor(2.5000)"
      ]
     },
     "execution_count": 11,
     "metadata": {},
     "output_type": "execute_result"
    }
   ],
   "source": [
    "x_data_f.mean()"
   ]
  },
  {
   "cell_type": "code",
   "execution_count": 12,
   "id": "1fce70b2",
   "metadata": {},
   "outputs": [
    {
     "data": {
      "text/plain": [
       "tensor([2., 3.])"
      ]
     },
     "execution_count": 12,
     "metadata": {},
     "output_type": "execute_result"
    }
   ],
   "source": [
    "x_data_f.mean(dim=0)"
   ]
  },
  {
   "cell_type": "code",
   "execution_count": 13,
   "id": "fab0279b",
   "metadata": {},
   "outputs": [
    {
     "data": {
      "text/plain": [
       "tensor([1.5000, 3.5000])"
      ]
     },
     "execution_count": 13,
     "metadata": {},
     "output_type": "execute_result"
    }
   ],
   "source": [
    "x_data_f.mean(dim=1)"
   ]
  },
  {
   "cell_type": "code",
   "execution_count": 14,
   "id": "4e449958",
   "metadata": {},
   "outputs": [
    {
     "data": {
      "text/plain": [
       "tensor([[1., 3.],\n",
       "        [2., 4.]])"
      ]
     },
     "execution_count": 14,
     "metadata": {},
     "output_type": "execute_result"
    }
   ],
   "source": [
    "torch.cat([t1,t2],dim=0)"
   ]
  },
  {
   "cell_type": "code",
   "execution_count": 15,
   "id": "1d7d3b7a",
   "metadata": {},
   "outputs": [],
   "source": [
    "t3 = torch.FloatTensor([[5,6]])\n",
    "t4 = torch.stack([t1,t2,t3])"
   ]
  },
  {
   "cell_type": "code",
   "execution_count": 16,
   "id": "d31d3679",
   "metadata": {},
   "outputs": [
    {
     "data": {
      "text/plain": [
       "tensor([[[1., 1.]],\n",
       "\n",
       "        [[1., 1.]],\n",
       "\n",
       "        [[1., 1.]]])"
      ]
     },
     "execution_count": 16,
     "metadata": {},
     "output_type": "execute_result"
    }
   ],
   "source": [
    "torch.ones_like(t4)"
   ]
  },
  {
   "cell_type": "code",
   "execution_count": 17,
   "id": "49dc6b64",
   "metadata": {},
   "outputs": [
    {
     "data": {
      "text/plain": [
       "tensor([[[0., 0.]],\n",
       "\n",
       "        [[0., 0.]],\n",
       "\n",
       "        [[0., 0.]]])"
      ]
     },
     "execution_count": 17,
     "metadata": {},
     "output_type": "execute_result"
    }
   ],
   "source": [
    "torch.zeros_like(t4)"
   ]
  },
  {
   "cell_type": "code",
   "execution_count": 18,
   "id": "3c364cdc",
   "metadata": {},
   "outputs": [],
   "source": [
    "X_train = torch.FloatTensor([[1],[2],[3]])\n",
    "y_train = torch.FloatTensor([[2],[4],[6]])"
   ]
  },
  {
   "cell_type": "code",
   "execution_count": 19,
   "id": "a9d8c4c3",
   "metadata": {},
   "outputs": [],
   "source": [
    "W = torch.zeros(1,requires_grad=True)"
   ]
  },
  {
   "cell_type": "code",
   "execution_count": 20,
   "id": "7a4c77d7",
   "metadata": {},
   "outputs": [],
   "source": [
    "b = torch.zeros(1,requires_grad=True)"
   ]
  },
  {
   "cell_type": "code",
   "execution_count": 21,
   "id": "ebb6f7dd",
   "metadata": {},
   "outputs": [],
   "source": [
    "hypothesis = X_train*W+b"
   ]
  },
  {
   "cell_type": "code",
   "execution_count": 22,
   "id": "7f8780ee",
   "metadata": {},
   "outputs": [],
   "source": [
    "cost = torch.mean((hypothesis-y_train)**2)"
   ]
  },
  {
   "cell_type": "code",
   "execution_count": 23,
   "id": "00cd428a",
   "metadata": {},
   "outputs": [],
   "source": [
    "import torch.optim as optim\n",
    "optimizer = optim.SGD([W,b], lr= 0.01)"
   ]
  },
  {
   "cell_type": "code",
   "execution_count": 24,
   "id": "eff4e359",
   "metadata": {},
   "outputs": [
    {
     "name": "stdout",
     "output_type": "stream",
     "text": [
      "Epoch   0/20000 W:0.019, b:0.008 cost:18.66667\n",
      "Epoch 200/20000 W:1.513, b:0.624 cost:0.28531\n",
      "Epoch 400/20000 W:1.686, b:0.661 cost:0.06679\n",
      "Epoch 600/20000 W:1.717, b:0.637 cost:0.05845\n",
      "Epoch 800/20000 W:1.732, b:0.608 cost:0.05306\n",
      "Epoch1000/20000 W:1.745, b:0.579 cost:0.04820\n",
      "Epoch1200/20000 W:1.757, b:0.552 cost:0.04378\n",
      "Epoch1400/20000 W:1.768, b:0.526 cost:0.03976\n",
      "Epoch1600/20000 W:1.779, b:0.502 cost:0.03612\n",
      "Epoch1800/20000 W:1.790, b:0.478 cost:0.03281\n",
      "Epoch2000/20000 W:1.800, b:0.456 cost:0.02980\n",
      "Epoch2200/20000 W:1.809, b:0.434 cost:0.02707\n",
      "Epoch2400/20000 W:1.818, b:0.414 cost:0.02458\n",
      "Epoch2600/20000 W:1.826, b:0.394 cost:0.02233\n",
      "Epoch2800/20000 W:1.835, b:0.376 cost:0.02028\n",
      "Epoch3000/20000 W:1.842, b:0.358 cost:0.01842\n",
      "Epoch3200/20000 W:1.850, b:0.341 cost:0.01673\n",
      "Epoch3400/20000 W:1.857, b:0.325 cost:0.01520\n",
      "Epoch3600/20000 W:1.864, b:0.310 cost:0.01381\n",
      "Epoch3800/20000 W:1.870, b:0.296 cost:0.01254\n",
      "Epoch4000/20000 W:1.876, b:0.282 cost:0.01139\n",
      "Epoch4200/20000 W:1.882, b:0.268 cost:0.01035\n",
      "Epoch4400/20000 W:1.887, b:0.256 cost:0.00940\n",
      "Epoch4600/20000 W:1.893, b:0.244 cost:0.00854\n",
      "Epoch4800/20000 W:1.898, b:0.232 cost:0.00775\n",
      "Epoch5000/20000 W:1.903, b:0.222 cost:0.00704\n",
      "Epoch5200/20000 W:1.907, b:0.211 cost:0.00640\n",
      "Epoch5400/20000 W:1.911, b:0.201 cost:0.00581\n",
      "Epoch5600/20000 W:1.916, b:0.192 cost:0.00528\n",
      "Epoch5800/20000 W:1.920, b:0.183 cost:0.00479\n",
      "Epoch6000/20000 W:1.923, b:0.174 cost:0.00435\n",
      "Epoch6200/20000 W:1.927, b:0.166 cost:0.00395\n",
      "Epoch6400/20000 W:1.930, b:0.158 cost:0.00359\n",
      "Epoch6600/20000 W:1.934, b:0.151 cost:0.00326\n",
      "Epoch6800/20000 W:1.937, b:0.144 cost:0.00296\n",
      "Epoch7000/20000 W:1.940, b:0.137 cost:0.00269\n",
      "Epoch7200/20000 W:1.943, b:0.131 cost:0.00245\n",
      "Epoch7400/20000 W:1.945, b:0.124 cost:0.00222\n",
      "Epoch7600/20000 W:1.948, b:0.119 cost:0.00202\n",
      "Epoch7800/20000 W:1.950, b:0.113 cost:0.00183\n",
      "Epoch8000/20000 W:1.953, b:0.108 cost:0.00166\n",
      "Epoch8200/20000 W:1.955, b:0.103 cost:0.00151\n",
      "Epoch8400/20000 W:1.957, b:0.098 cost:0.00137\n",
      "Epoch8600/20000 W:1.959, b:0.093 cost:0.00125\n",
      "Epoch8800/20000 W:1.961, b:0.089 cost:0.00113\n",
      "Epoch9000/20000 W:1.963, b:0.085 cost:0.00103\n",
      "Epoch9200/20000 W:1.965, b:0.081 cost:0.00093\n",
      "Epoch9400/20000 W:1.966, b:0.077 cost:0.00085\n",
      "Epoch9600/20000 W:1.968, b:0.073 cost:0.00077\n",
      "Epoch9800/20000 W:1.969, b:0.070 cost:0.00070\n",
      "Epoch10000/20000 W:1.971, b:0.067 cost:0.00064\n",
      "Epoch10200/20000 W:1.972, b:0.063 cost:0.00058\n",
      "Epoch10400/20000 W:1.973, b:0.060 cost:0.00052\n",
      "Epoch10600/20000 W:1.975, b:0.058 cost:0.00048\n",
      "Epoch10800/20000 W:1.976, b:0.055 cost:0.00043\n",
      "Epoch11000/20000 W:1.977, b:0.052 cost:0.00039\n",
      "Epoch11200/20000 W:1.978, b:0.050 cost:0.00036\n",
      "Epoch11400/20000 W:1.979, b:0.048 cost:0.00032\n",
      "Epoch11600/20000 W:1.980, b:0.045 cost:0.00029\n",
      "Epoch11800/20000 W:1.981, b:0.043 cost:0.00027\n",
      "Epoch12000/20000 W:1.982, b:0.041 cost:0.00024\n",
      "Epoch12200/20000 W:1.983, b:0.039 cost:0.00022\n",
      "Epoch12400/20000 W:1.984, b:0.037 cost:0.00020\n",
      "Epoch12600/20000 W:1.984, b:0.036 cost:0.00018\n",
      "Epoch12800/20000 W:1.985, b:0.034 cost:0.00017\n",
      "Epoch13000/20000 W:1.986, b:0.032 cost:0.00015\n",
      "Epoch13200/20000 W:1.986, b:0.031 cost:0.00014\n",
      "Epoch13400/20000 W:1.987, b:0.029 cost:0.00012\n",
      "Epoch13600/20000 W:1.988, b:0.028 cost:0.00011\n",
      "Epoch13800/20000 W:1.988, b:0.027 cost:0.00010\n",
      "Epoch14000/20000 W:1.989, b:0.025 cost:0.00009\n",
      "Epoch14200/20000 W:1.989, b:0.024 cost:0.00008\n",
      "Epoch14400/20000 W:1.990, b:0.023 cost:0.00008\n",
      "Epoch14600/20000 W:1.990, b:0.022 cost:0.00007\n",
      "Epoch14800/20000 W:1.991, b:0.021 cost:0.00006\n",
      "Epoch15000/20000 W:1.991, b:0.020 cost:0.00006\n",
      "Epoch15200/20000 W:1.992, b:0.019 cost:0.00005\n",
      "Epoch15400/20000 W:1.992, b:0.018 cost:0.00005\n",
      "Epoch15600/20000 W:1.992, b:0.017 cost:0.00004\n",
      "Epoch15800/20000 W:1.993, b:0.017 cost:0.00004\n",
      "Epoch16000/20000 W:1.993, b:0.016 cost:0.00004\n",
      "Epoch16200/20000 W:1.993, b:0.015 cost:0.00003\n",
      "Epoch16400/20000 W:1.994, b:0.014 cost:0.00003\n",
      "Epoch16600/20000 W:1.994, b:0.014 cost:0.00003\n",
      "Epoch16800/20000 W:1.994, b:0.013 cost:0.00002\n",
      "Epoch17000/20000 W:1.995, b:0.012 cost:0.00002\n",
      "Epoch17200/20000 W:1.995, b:0.012 cost:0.00002\n",
      "Epoch17400/20000 W:1.995, b:0.011 cost:0.00002\n",
      "Epoch17600/20000 W:1.995, b:0.011 cost:0.00002\n",
      "Epoch17800/20000 W:1.995, b:0.010 cost:0.00002\n",
      "Epoch18000/20000 W:1.996, b:0.010 cost:0.00001\n",
      "Epoch18200/20000 W:1.996, b:0.009 cost:0.00001\n",
      "Epoch18400/20000 W:1.996, b:0.009 cost:0.00001\n",
      "Epoch18600/20000 W:1.996, b:0.008 cost:0.00001\n",
      "Epoch18800/20000 W:1.996, b:0.008 cost:0.00001\n",
      "Epoch19000/20000 W:1.997, b:0.008 cost:0.00001\n",
      "Epoch19200/20000 W:1.997, b:0.007 cost:0.00001\n",
      "Epoch19400/20000 W:1.997, b:0.007 cost:0.00001\n",
      "Epoch19600/20000 W:1.997, b:0.007 cost:0.00001\n",
      "Epoch19800/20000 W:1.997, b:0.006 cost:0.00001\n"
     ]
    },
    {
     "data": {
      "image/png": "[encoded data removed]",
      "text/plain": [
       "<Figure size 432x288 with 1 Axes>"
      ]
     },
     "metadata": {
      "needs_background": "light"
     },
     "output_type": "display_data"
    }
   ],
   "source": [
    "import torch\n",
    "import torch.optim as optim\n",
    "import matplotlib.pyplot as plt\n",
    "X_train = torch.FloatTensor([[1],[2],[3]])\n",
    "y_train = torch.FloatTensor([[2],[4],[6]])\n",
    "\n",
    "W = torch.zeros(1,requires_grad=True)\n",
    "b = torch.zeros(1,requires_grad=True)\n",
    "\n",
    "optimizer = optim.SGD([W,b], lr= 0.001)\n",
    "\n",
    "nb_epochs = 20000\n",
    "list_cost = []\n",
    "for epoch in range(nb_epochs):\n",
    "    hypothesis = X_train*W+b\n",
    "    cost = torch.mean((hypothesis-y_train)**2)\n",
    "    \n",
    "    optimizer.zero_grad()\n",
    "    cost.backward()\n",
    "    optimizer.step()\n",
    "    \n",
    "    if epoch % 200 == 0:\n",
    "        list_cost.append(float(cost.item())*10000.0)\n",
    "        print('Epoch{:4d}/{} W:{:.3f}, b:{:.3f} cost:{:.5f}'.format(epoch,nb_epochs, W.item(),b.item(), cost.item()))\n",
    "plt.plot(range(100),list_cost)\n",
    "plt.show()"
   ]
  },
  {
   "cell_type": "code",
   "execution_count": 25,
   "id": "b1d4582e",
   "metadata": {},
   "outputs": [
    {
     "name": "stdout",
     "output_type": "stream",
     "text": [
      "Epoch   0/200000 W:1.997, b:0.007 cost:29661.80078\n",
      "Epoch2000/200000 W:1.997, b:0.013 cost:0.44850\n",
      "Epoch4000/200000 W:1.997, b:0.018 cost:0.29270\n",
      "Epoch6000/200000 W:1.997, b:0.021 cost:0.25815\n",
      "Epoch8000/200000 W:1.997, b:0.025 cost:0.24043\n",
      "Epoch10000/200000 W:1.997, b:0.028 cost:0.22706\n",
      "Epoch12000/200000 W:1.997, b:0.032 cost:0.21618\n",
      "Epoch14000/200000 W:1.997, b:0.035 cost:0.20722\n",
      "Epoch16000/200000 W:1.997, b:0.037 cost:0.19985\n",
      "Epoch18000/200000 W:1.997, b:0.040 cost:0.19377\n",
      "Epoch20000/200000 W:1.997, b:0.042 cost:0.18876\n",
      "Epoch22000/200000 W:1.997, b:0.045 cost:0.18462\n",
      "Epoch24000/200000 W:1.997, b:0.047 cost:0.18121\n",
      "Epoch26000/200000 W:1.997, b:0.049 cost:0.17841\n",
      "Epoch28000/200000 W:1.997, b:0.051 cost:0.17608\n",
      "Epoch30000/200000 W:1.997, b:0.053 cost:0.17416\n",
      "Epoch32000/200000 W:1.997, b:0.055 cost:0.17257\n",
      "Epoch34000/200000 W:1.997, b:0.057 cost:0.17126\n",
      "Epoch36000/200000 W:1.997, b:0.059 cost:0.17018\n",
      "Epoch38000/200000 W:1.997, b:0.060 cost:0.16928\n",
      "Epoch40000/200000 W:1.997, b:0.062 cost:0.16853\n",
      "Epoch42000/200000 W:1.997, b:0.064 cost:0.16791\n",
      "Epoch44000/200000 W:1.997, b:0.065 cost:0.16739\n",
      "Epoch46000/200000 W:1.997, b:0.067 cost:0.16696\n",
      "Epoch48000/200000 W:1.997, b:0.068 cost:0.16661\n",
      "Epoch50000/200000 W:1.997, b:0.070 cost:0.16630\n",
      "Epoch52000/200000 W:1.997, b:0.071 cost:0.16604\n",
      "Epoch54000/200000 W:1.997, b:0.072 cost:0.16583\n",
      "Epoch56000/200000 W:1.997, b:0.074 cost:0.16565\n",
      "Epoch58000/200000 W:1.997, b:0.075 cost:0.16549\n",
      "Epoch60000/200000 W:1.997, b:0.076 cost:0.16536\n",
      "Epoch62000/200000 W:1.997, b:0.078 cost:0.16525\n",
      "Epoch64000/200000 W:1.997, b:0.079 cost:0.16514\n",
      "Epoch66000/200000 W:1.997, b:0.080 cost:0.16505\n",
      "Epoch68000/200000 W:1.997, b:0.081 cost:0.16497\n",
      "Epoch70000/200000 W:1.997, b:0.083 cost:0.16490\n",
      "Epoch72000/200000 W:1.997, b:0.084 cost:0.16484\n",
      "Epoch74000/200000 W:1.997, b:0.085 cost:0.16478\n",
      "Epoch76000/200000 W:1.997, b:0.086 cost:0.16473\n",
      "Epoch78000/200000 W:1.997, b:0.087 cost:0.16468\n",
      "Epoch80000/200000 W:1.997, b:0.089 cost:0.16464\n",
      "Epoch82000/200000 W:1.997, b:0.090 cost:0.16460\n",
      "Epoch84000/200000 W:1.997, b:0.091 cost:0.16455\n",
      "Epoch86000/200000 W:1.997, b:0.092 cost:0.16452\n",
      "Epoch88000/200000 W:1.997, b:0.093 cost:0.16448\n",
      "Epoch90000/200000 W:1.997, b:0.094 cost:0.16444\n",
      "Epoch92000/200000 W:1.997, b:0.096 cost:0.16441\n",
      "Epoch94000/200000 W:1.997, b:0.097 cost:0.16437\n",
      "Epoch96000/200000 W:1.997, b:0.098 cost:0.16434\n",
      "Epoch98000/200000 W:1.997, b:0.099 cost:0.16430\n",
      "Epoch100000/200000 W:1.997, b:0.100 cost:0.16427\n",
      "Epoch102000/200000 W:1.997, b:0.101 cost:0.16423\n",
      "Epoch104000/200000 W:1.997, b:0.102 cost:0.16421\n",
      "Epoch106000/200000 W:1.997, b:0.103 cost:0.16417\n",
      "Epoch108000/200000 W:1.997, b:0.105 cost:0.16414\n",
      "Epoch110000/200000 W:1.997, b:0.106 cost:0.16411\n",
      "Epoch112000/200000 W:1.997, b:0.107 cost:0.16408\n",
      "Epoch114000/200000 W:1.997, b:0.108 cost:0.16405\n",
      "Epoch116000/200000 W:1.997, b:0.109 cost:0.16401\n",
      "Epoch118000/200000 W:1.997, b:0.110 cost:0.16399\n",
      "Epoch120000/200000 W:1.997, b:0.111 cost:0.16396\n",
      "Epoch122000/200000 W:1.997, b:0.112 cost:0.16393\n",
      "Epoch124000/200000 W:1.997, b:0.114 cost:0.16390\n",
      "Epoch126000/200000 W:1.997, b:0.115 cost:0.16386\n",
      "Epoch128000/200000 W:1.997, b:0.116 cost:0.16383\n",
      "Epoch130000/200000 W:1.997, b:0.117 cost:0.16380\n",
      "Epoch132000/200000 W:1.997, b:0.118 cost:0.16377\n",
      "Epoch134000/200000 W:1.997, b:0.119 cost:0.16374\n",
      "Epoch136000/200000 W:1.997, b:0.120 cost:0.16371\n",
      "Epoch138000/200000 W:1.997, b:0.121 cost:0.16368\n",
      "Epoch140000/200000 W:1.997, b:0.122 cost:0.16364\n",
      "Epoch142000/200000 W:1.997, b:0.123 cost:0.16362\n",
      "Epoch144000/200000 W:1.997, b:0.125 cost:0.16359\n",
      "Epoch146000/200000 W:1.997, b:0.126 cost:0.16355\n",
      "Epoch148000/200000 W:1.997, b:0.127 cost:0.16353\n",
      "Epoch150000/200000 W:1.997, b:0.128 cost:0.16350\n",
      "Epoch152000/200000 W:1.997, b:0.129 cost:0.16347\n",
      "Epoch154000/200000 W:1.997, b:0.130 cost:0.16344\n",
      "Epoch156000/200000 W:1.997, b:0.131 cost:0.16340\n",
      "Epoch158000/200000 W:1.997, b:0.132 cost:0.16337\n",
      "Epoch160000/200000 W:1.997, b:0.133 cost:0.16335\n",
      "Epoch162000/200000 W:1.997, b:0.135 cost:0.16331\n",
      "Epoch164000/200000 W:1.997, b:0.136 cost:0.16328\n",
      "Epoch166000/200000 W:1.997, b:0.137 cost:0.16325\n",
      "Epoch168000/200000 W:1.997, b:0.138 cost:0.16322\n",
      "Epoch170000/200000 W:1.997, b:0.139 cost:0.16319\n",
      "Epoch172000/200000 W:1.997, b:0.140 cost:0.16316\n",
      "Epoch174000/200000 W:1.997, b:0.141 cost:0.16313\n",
      "Epoch176000/200000 W:1.997, b:0.142 cost:0.16310\n",
      "Epoch178000/200000 W:1.997, b:0.143 cost:0.16307\n",
      "Epoch180000/200000 W:1.997, b:0.144 cost:0.16304\n",
      "Epoch182000/200000 W:1.997, b:0.146 cost:0.16301\n",
      "Epoch184000/200000 W:1.997, b:0.147 cost:0.16298\n",
      "Epoch186000/200000 W:1.997, b:0.148 cost:0.16295\n",
      "Epoch188000/200000 W:1.997, b:0.149 cost:0.16291\n",
      "Epoch190000/200000 W:1.997, b:0.150 cost:0.16289\n",
      "Epoch192000/200000 W:1.997, b:0.151 cost:0.16286\n",
      "Epoch194000/200000 W:1.997, b:0.152 cost:0.16283\n",
      "Epoch196000/200000 W:1.997, b:0.153 cost:0.16280\n",
      "Epoch198000/200000 W:1.997, b:0.154 cost:0.16277\n"
     ]
    },
    {
     "data": {
      "image/png": "[encoded data removed]",
      "text/plain": [
       "<Figure size 432x288 with 1 Axes>"
      ]
     },
     "metadata": {
      "needs_background": "light"
     },
     "output_type": "display_data"
    }
   ],
   "source": [
    "import torch\n",
    "import torch.optim as optim\n",
    "import matplotlib.pyplot as plt\n",
    "X1_train = torch.FloatTensor([[73],[93],[89],[96],[73]])\n",
    "X2_train = torch.FloatTensor([[80],[88],[91],[98],[66]])\n",
    "X3_train = torch.FloatTensor([[75],[93],[90],[100],[70]])\n",
    "y_train = torch.FloatTensor([[152],[185],[180],[196],[142]])\n",
    "\n",
    "W1 = torch.zeros(1,requires_grad=True)\n",
    "W2 = torch.zeros(1,requires_grad=True)\n",
    "W3 = torch.zeros(1,requires_grad=True)\n",
    "b = torch.zeros(1,requires_grad=True)\n",
    "\n",
    "optimizer = optim.SGD([W1,W2,W3,b],lr=0.00002)\n",
    "\n",
    "nb_epochs = 200000\n",
    "list_cost = []\n",
    "for epoch in range(nb_epochs):\n",
    "    hypothesis = X1_train*W1+X2_train*W2+X3_train*W3+b\n",
    "    cost = torch.mean((hypothesis-y_train)**2)\n",
    "    \n",
    "    optimizer.zero_grad()\n",
    "    cost.backward()\n",
    "    optimizer.step()\n",
    "    \n",
    "    if epoch % 2000 == 0:\n",
    "        list_cost.append(float(cost.item())*10000.0)\n",
    "        print('Epoch{:4d}/{} W:{:.3f}, b:{:.3f} cost:{:.5f}'.format(epoch,nb_epochs, W.item(),b.item(), cost.item()))\n",
    "plt.plot(range(100),list_cost)\n",
    "plt.show()"
   ]
  },
  {
   "cell_type": "code",
   "execution_count": 26,
   "id": "b2ff35a2",
   "metadata": {},
   "outputs": [
    {
     "name": "stdout",
     "output_type": "stream",
     "text": [
      "Epoch   0/2000 loss:10.13899\n",
      "Epoch 100/2000 loss:0.00031\n",
      "Epoch 200/2000 loss:0.00019\n",
      "Epoch 300/2000 loss:0.00012\n",
      "Epoch 400/2000 loss:0.00007\n",
      "Epoch 500/2000 loss:0.00005\n",
      "Epoch 600/2000 loss:0.00003\n",
      "Epoch 700/2000 loss:0.00002\n",
      "Epoch 800/2000 loss:0.00001\n",
      "Epoch 900/2000 loss:0.00001\n",
      "Epoch1000/2000 loss:0.00000\n",
      "Epoch1100/2000 loss:0.00000\n",
      "Epoch1200/2000 loss:0.00000\n",
      "Epoch1300/2000 loss:0.00000\n",
      "Epoch1400/2000 loss:0.00000\n",
      "Epoch1500/2000 loss:0.00000\n",
      "Epoch1600/2000 loss:0.00000\n",
      "Epoch1700/2000 loss:0.00000\n",
      "Epoch1800/2000 loss:0.00000\n",
      "Epoch1900/2000 loss:0.00000\n",
      "Epoch2000/2000 loss:0.00000\n"
     ]
    },
    {
     "data": {
      "image/png": "[encoded data removed]",
      "text/plain": [
       "<Figure size 432x288 with 1 Axes>"
      ]
     },
     "metadata": {
      "needs_background": "light"
     },
     "output_type": "display_data"
    }
   ],
   "source": [
    "import torch.nn as nn\n",
    "import torch.nn.functional as F\n",
    "X_train = torch.FloatTensor([[1],[2],[3]])\n",
    "y_train = torch.FloatTensor([[2],[4],[6]])\n",
    "model = nn.Linear(1,1)\n",
    "optimizer = optim.SGD(model.parameters(),lr=0.01)\n",
    "nb_epochs = 2000\n",
    "for epoch in range(nb_epochs+1):\n",
    "    prediction = model(X_train)\n",
    "    cost = F.mse_loss(prediction,y_train)\n",
    "    optimizer.zero_grad()\n",
    "    cost.backward()\n",
    "    optimizer.step()\n",
    "    \n",
    "    if epoch % 100 == 0:\n",
    "        print('Epoch{:4d}/{} loss:{:.5f}'.format(epoch,nb_epochs,cost.item()))\n",
    "plt.plot(range(100),list_cost)\n",
    "plt.show()\n",
    "        \n",
    "    "
   ]
  },
  {
   "cell_type": "code",
   "execution_count": 27,
   "id": "a7ca5565",
   "metadata": {},
   "outputs": [
    {
     "data": {
      "text/plain": [
       "tensor([[3.0002]], grad_fn=<AddmmBackward>)"
      ]
     },
     "execution_count": 27,
     "metadata": {},
     "output_type": "execute_result"
    }
   ],
   "source": [
    "new_input = torch.FloatTensor([[1.5]])\n",
    "pred_y = model(new_input)\n",
    "pred_y"
   ]
  },
  {
   "cell_type": "code",
   "execution_count": 70,
   "id": "6a037b6c",
   "metadata": {},
   "outputs": [
    {
     "data": {
      "text/html": [
       "<div>\n",
       "<style scoped>\n",
       "    .dataframe tbody tr th:only-of-type {\n",
       "        vertical-align: middle;\n",
       "    }\n",
       "\n",
       "    .dataframe tbody tr th {\n",
       "        vertical-align: top;\n",
       "    }\n",
       "\n",
       "    .dataframe thead th {\n",
       "        text-align: right;\n",
       "    }\n",
       "</style>\n",
       "<table border=\"1\" class=\"dataframe\">\n",
       "  <thead>\n",
       "    <tr style=\"text-align: right;\">\n",
       "      <th></th>\n",
       "      <th>buying</th>\n",
       "      <th>maint</th>\n",
       "      <th>doors</th>\n",
       "      <th>persons</th>\n",
       "      <th>lug_boot</th>\n",
       "      <th>safety</th>\n",
       "      <th>class</th>\n",
       "    </tr>\n",
       "  </thead>\n",
       "  <tbody>\n",
       "    <tr>\n",
       "      <th>0</th>\n",
       "      <td>vhigh</td>\n",
       "      <td>vhigh</td>\n",
       "      <td>2</td>\n",
       "      <td>2</td>\n",
       "      <td>small</td>\n",
       "      <td>low</td>\n",
       "      <td>unacc</td>\n",
       "    </tr>\n",
       "    <tr>\n",
       "      <th>1</th>\n",
       "      <td>vhigh</td>\n",
       "      <td>vhigh</td>\n",
       "      <td>2</td>\n",
       "      <td>2</td>\n",
       "      <td>small</td>\n",
       "      <td>med</td>\n",
       "      <td>unacc</td>\n",
       "    </tr>\n",
       "    <tr>\n",
       "      <th>2</th>\n",
       "      <td>vhigh</td>\n",
       "      <td>vhigh</td>\n",
       "      <td>2</td>\n",
       "      <td>2</td>\n",
       "      <td>small</td>\n",
       "      <td>high</td>\n",
       "      <td>unacc</td>\n",
       "    </tr>\n",
       "    <tr>\n",
       "      <th>3</th>\n",
       "      <td>vhigh</td>\n",
       "      <td>vhigh</td>\n",
       "      <td>2</td>\n",
       "      <td>2</td>\n",
       "      <td>med</td>\n",
       "      <td>low</td>\n",
       "      <td>unacc</td>\n",
       "    </tr>\n",
       "    <tr>\n",
       "      <th>4</th>\n",
       "      <td>vhigh</td>\n",
       "      <td>vhigh</td>\n",
       "      <td>2</td>\n",
       "      <td>2</td>\n",
       "      <td>med</td>\n",
       "      <td>med</td>\n",
       "      <td>unacc</td>\n",
       "    </tr>\n",
       "    <tr>\n",
       "      <th>...</th>\n",
       "      <td>...</td>\n",
       "      <td>...</td>\n",
       "      <td>...</td>\n",
       "      <td>...</td>\n",
       "      <td>...</td>\n",
       "      <td>...</td>\n",
       "      <td>...</td>\n",
       "    </tr>\n",
       "    <tr>\n",
       "      <th>1723</th>\n",
       "      <td>low</td>\n",
       "      <td>low</td>\n",
       "      <td>5more</td>\n",
       "      <td>more</td>\n",
       "      <td>med</td>\n",
       "      <td>med</td>\n",
       "      <td>good</td>\n",
       "    </tr>\n",
       "    <tr>\n",
       "      <th>1724</th>\n",
       "      <td>low</td>\n",
       "      <td>low</td>\n",
       "      <td>5more</td>\n",
       "      <td>more</td>\n",
       "      <td>med</td>\n",
       "      <td>high</td>\n",
       "      <td>vgood</td>\n",
       "    </tr>\n",
       "    <tr>\n",
       "      <th>1725</th>\n",
       "      <td>low</td>\n",
       "      <td>low</td>\n",
       "      <td>5more</td>\n",
       "      <td>more</td>\n",
       "      <td>big</td>\n",
       "      <td>low</td>\n",
       "      <td>unacc</td>\n",
       "    </tr>\n",
       "    <tr>\n",
       "      <th>1726</th>\n",
       "      <td>low</td>\n",
       "      <td>low</td>\n",
       "      <td>5more</td>\n",
       "      <td>more</td>\n",
       "      <td>big</td>\n",
       "      <td>med</td>\n",
       "      <td>good</td>\n",
       "    </tr>\n",
       "    <tr>\n",
       "      <th>1727</th>\n",
       "      <td>low</td>\n",
       "      <td>low</td>\n",
       "      <td>5more</td>\n",
       "      <td>more</td>\n",
       "      <td>big</td>\n",
       "      <td>high</td>\n",
       "      <td>vgood</td>\n",
       "    </tr>\n",
       "  </tbody>\n",
       "</table>\n",
       "<p>1728 rows × 7 columns</p>\n",
       "</div>"
      ],
      "text/plain": [
       "     buying  maint  doors persons lug_boot safety  class\n",
       "0     vhigh  vhigh      2       2    small    low  unacc\n",
       "1     vhigh  vhigh      2       2    small    med  unacc\n",
       "2     vhigh  vhigh      2       2    small   high  unacc\n",
       "3     vhigh  vhigh      2       2      med    low  unacc\n",
       "4     vhigh  vhigh      2       2      med    med  unacc\n",
       "...     ...    ...    ...     ...      ...    ...    ...\n",
       "1723    low    low  5more    more      med    med   good\n",
       "1724    low    low  5more    more      med   high  vgood\n",
       "1725    low    low  5more    more      big    low  unacc\n",
       "1726    low    low  5more    more      big    med   good\n",
       "1727    low    low  5more    more      big   high  vgood\n",
       "\n",
       "[1728 rows x 7 columns]"
      ]
     },
     "execution_count": 70,
     "metadata": {},
     "output_type": "execute_result"
    }
   ],
   "source": [
    "import pandas as pd\n",
    "import numpy as np\n",
    "data = pd.read_csv('car.data',names=['buying','maint','doors','persons','lug_boot','safety','class'])\n",
    "data"
   ]
  },
  {
   "cell_type": "code",
   "execution_count": 46,
   "id": "2d161402",
   "metadata": {},
   "outputs": [],
   "source": [
    "data_X = data.drop(['class'],axis=1)\n",
    "data_dummies = pd.get_dummies(data_X)"
   ]
  },
  {
   "cell_type": "code",
   "execution_count": 50,
   "id": "97c60185",
   "metadata": {},
   "outputs": [],
   "source": [
    "X_features = data_dummies\n",
    "y_features = data['class']"
   ]
  },
  {
   "cell_type": "code",
   "execution_count": 51,
   "id": "c669600c",
   "metadata": {},
   "outputs": [],
   "source": [
    "y = y_features.values\n",
    "X = X_features.values"
   ]
  },
  {
   "cell_type": "code",
   "execution_count": 55,
   "id": "759ab1d9",
   "metadata": {},
   "outputs": [],
   "source": [
    "from sklearn.svm import SVC\n",
    "from sklearn.ensemble import RandomForestClassifier\n",
    "from sklearn.model_selection import train_test_split"
   ]
  },
  {
   "cell_type": "code",
   "execution_count": 53,
   "id": "c30ba76a",
   "metadata": {},
   "outputs": [],
   "source": [
    "X_train, X_test, y_train,y_test = train_test_split(X, y, random_state=0)"
   ]
  },
  {
   "cell_type": "code",
   "execution_count": 54,
   "id": "3517fd4c",
   "metadata": {},
   "outputs": [
    {
     "data": {
      "text/plain": [
       "0.8888888888888888"
      ]
     },
     "execution_count": 54,
     "metadata": {},
     "output_type": "execute_result"
    }
   ],
   "source": [
    "svm = SVC(gamma= 'auto').fit(X_train,y_train)\n",
    "svm.score(X_test,y_test)"
   ]
  },
  {
   "cell_type": "code",
   "execution_count": 57,
   "id": "0578eaad",
   "metadata": {},
   "outputs": [
    {
     "data": {
      "text/plain": [
       "0.9675925925925926"
      ]
     },
     "execution_count": 57,
     "metadata": {},
     "output_type": "execute_result"
    }
   ],
   "source": [
    "forest = RandomForestClassifier(n_estimators=100,random_state=0).fit(X_train,y_train)\n",
    "forest.score(X_test,y_test)"
   ]
  },
  {
   "cell_type": "code",
   "execution_count": 89,
   "id": "8c08a71d",
   "metadata": {},
   "outputs": [],
   "source": [
    "from random import randint"
   ]
  },
  {
   "cell_type": "code",
   "execution_count": 136,
   "id": "d405da44",
   "metadata": {},
   "outputs": [
    {
     "name": "stdout",
     "output_type": "stream",
     "text": [
      "행 번호: 125 \t| 실제 값: unacc    | 예측: ['unacc'] \n",
      "\n",
      "행 번호: 1727 \t| 실제 값: vgood    | 예측: ['vgood'] \n",
      "\n",
      "행 번호: 310 \t| 실제 값: acc      | 예측: ['acc'] \n",
      "\n",
      "행 번호: 1416 \t| 실제 값: unacc    | 예측: ['unacc'] \n",
      "\n",
      "행 번호: 1660 \t| 실제 값: acc      | 예측: ['acc'] \n",
      "\n"
     ]
    }
   ],
   "source": [
    "for i in range(5):\n",
    "    n = randint(0, 1727)\n",
    "    y = [X[n]]\n",
    "    y_pred = forest.predict(y)\n",
    "    print(\"행 번호:\",n,'\\t|',\"실제 값: %-8s |\" % data['class'].iloc[n],\"예측:\",y_pred,\"\\n\")"
   ]
  },
  {
   "cell_type": "code",
   "execution_count": 75,
   "id": "6259e62e",
   "metadata": {},
   "outputs": [
    {
     "data": {
      "text/plain": [
       "array(['good'], dtype=object)"
      ]
     },
     "execution_count": 75,
     "metadata": {},
     "output_type": "execute_result"
    }
   ],
   "source": []
  }
 ],
 "metadata": {
  "kernelspec": {
   "display_name": "Python 3",
   "language": "python",
   "name": "python3"
  },
  "language_info": {
   "codemirror_mode": {
    "name": "ipython",
    "version": 3
   },
   "file_extension": ".py",
   "mimetype": "text/x-python",
   "name": "python",
   "nbconvert_exporter": "python",
   "pygments_lexer": "ipython3",
   "version": "3.8.8"
  }
 },
 "nbformat": 4,
 "nbformat_minor": 5
}
