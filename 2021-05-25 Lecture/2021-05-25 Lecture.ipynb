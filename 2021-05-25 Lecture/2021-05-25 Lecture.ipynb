{
 "cells": [
  {
   "cell_type": "code",
   "execution_count": null,
   "id": "395d1fe9",
   "metadata": {},
   "outputs": [],
   "source": [
    "for i in range(10):\n",
    "    for j in range(i):\n",
    "        print(\" \",end=\"\")\n",
    "    for k in range(10):\n",
    "        print(\"*\",end=\"\")\n",
    "    print(\"\")"
   ]
  },
  {
   "cell_type": "code",
   "execution_count": null,
   "id": "2644cc9d",
   "metadata": {},
   "outputs": [],
   "source": [
    "count = 0\n",
    "for c in range (1,101):\n",
    "    for b in range (1,101):\n",
    "        for a in range (1,101):\n",
    "            if(a*a + b*b == c*c):\n",
    "                count += 1\n",
    "print(count)"
   ]
  },
  {
   "cell_type": "code",
   "execution_count": null,
   "id": "33d5fc8a",
   "metadata": {},
   "outputs": [],
   "source": [
    "count = 0\n",
    "c = 1\n",
    "while c <= 100:\n",
    "    b = 1\n",
    "    while b <= 100:\n",
    "        a = 1\n",
    "        while a <= 100:\n",
    "            if(a*a + b*b == c*c):\n",
    "                count += 1\n",
    "            a += 1\n",
    "        b += 1\n",
    "    c += 1\n",
    "print(count)"
   ]
  },
  {
   "cell_type": "code",
   "execution_count": 9,
   "id": "5ff731f8",
   "metadata": {
    "scrolled": true
   },
   "outputs": [
    {
     "name": "stdout",
     "output_type": "stream",
     "text": [
      "738\n"
     ]
    }
   ],
   "source": [
    "huns = 0\n",
    "tens = 0\n",
    "ones = 0\n",
    "count = 0\n",
    "for i in range(1,1000):\n",
    "    huns = i // 100\n",
    "    tens = ((i - huns*100) // 10)\n",
    "    ones = i % 10\n",
    "    \n",
    "    if i < 10:\n",
    "        count+=1\n",
    "    elif i >= 10 and i <= 99:\n",
    "        if tens != ones:\n",
    "            count+=1\n",
    "    else:\n",
    "        if ((tens!= ones) & (tens!=huns) & (huns!=ones)):\n",
    "            count+=1\n",
    "print(count)"
   ]
  },
  {
   "cell_type": "code",
   "execution_count": 15,
   "id": "c404ab76",
   "metadata": {},
   "outputs": [
    {
     "data": {
      "text/plain": [
       "1"
      ]
     },
     "execution_count": 15,
     "metadata": {},
     "output_type": "execute_result"
    }
   ],
   "source": [
    "a = 3\n",
    "b = 2016\n",
    "ones = (a**b) % 10"
   ]
  },
  {
   "cell_type": "code",
   "execution_count": 16,
   "id": "12e778a2",
   "metadata": {},
   "outputs": [
    {
     "name": "stdout",
     "output_type": "stream",
     "text": [
      "1\n"
     ]
    }
   ],
   "source": [
    "num = 1\n",
    "for i in range(2016):\n",
    "    num*=3\n",
    "    if i == 2015:\n",
    "        d1_of_num = num %10\n",
    "print(d1_of_num)"
   ]
  },
  {
   "cell_type": "code",
   "execution_count": 26,
   "id": "7d02568f",
   "metadata": {},
   "outputs": [
    {
     "name": "stdout",
     "output_type": "stream",
     "text": [
      "수 입력: 682\n",
      "11\n"
     ]
    }
   ],
   "source": [
    "a = int(input(\"수 입력: \"))\n",
    "count = 0\n",
    "while a != 1:\n",
    "    if a % 2 == 0:\n",
    "        a = a / 2\n",
    "    else:\n",
    "        a = ((a * 3) +1)/ 2\n",
    "    count+=1\n",
    "print(count)"
   ]
  },
  {
   "cell_type": "code",
   "execution_count": 28,
   "id": "45089b5c",
   "metadata": {},
   "outputs": [
    {
     "name": "stdout",
     "output_type": "stream",
     "text": [
      "안녕하세요1\n",
      "안녕하세요2\n",
      "안녕하세요3\n",
      "안녕하세요4\n",
      "안녕하세요5\n",
      "안녕하세요1\n",
      "안녕하세요2\n",
      "안녕하세요3\n",
      "안녕하세요4\n",
      "안녕하세요5\n",
      "안녕하세요1\n",
      "안녕하세요2\n",
      "안녕하세요3\n",
      "안녕하세요4\n",
      "안녕하세요5\n"
     ]
    }
   ],
   "source": [
    "def hello_5():\n",
    "    print(\"안녕하세요1\")\n",
    "    print(\"안녕하세요2\")\n",
    "    print(\"안녕하세요3\")\n",
    "    print(\"안녕하세요4\")\n",
    "    print(\"안녕하세요5\")\n",
    "\n",
    "hello_5()\n",
    "hello_5()\n",
    "hello_5()"
   ]
  },
  {
   "cell_type": "code",
   "execution_count": 29,
   "id": "3c40f489",
   "metadata": {},
   "outputs": [
    {
     "name": "stdout",
     "output_type": "stream",
     "text": [
      "안녕하세요5\n",
      "안녕하세요1\n",
      "안녕하세요2\n",
      "안녕하세요3\n",
      "안녕하세요4\n",
      "안녕하세요1\n",
      "안녕하세요2\n",
      "안녕하세요3\n",
      "안녕하세요4\n",
      "안녕하세요1\n",
      "안녕하세요2\n",
      "안녕하세요3\n",
      "안녕하세요4\n"
     ]
    }
   ],
   "source": [
    "def hello_5():\n",
    "    print(\"안녕하세요1\")\n",
    "    print(\"안녕하세요2\")\n",
    "    print(\"안녕하세요3\")\n",
    "    print(\"안녕하세요4\")\n",
    "print(\"안녕하세요5\")\n",
    "\n",
    "hello_5()\n",
    "hello_5()\n",
    "hello_5()"
   ]
  },
  {
   "cell_type": "code",
   "execution_count": 33,
   "id": "de8c2844",
   "metadata": {},
   "outputs": [
    {
     "name": "stdout",
     "output_type": "stream",
     "text": [
      "숫자 1:1\n",
      "숫자 2:2\n",
      "3\n"
     ]
    }
   ],
   "source": [
    "def add(a,b):\n",
    "    c = a+b\n",
    "    return c\n",
    "\n",
    "num1 = int(input(\"숫자 1:\"))\n",
    "num2 = int(input(\"숫자 2:\"))\n",
    "result = add(num1, num2)\n",
    "print(result)"
   ]
  },
  {
   "cell_type": "code",
   "execution_count": 36,
   "id": "5d9eb9ae",
   "metadata": {},
   "outputs": [
    {
     "name": "stdout",
     "output_type": "stream",
     "text": [
      "hi\n"
     ]
    }
   ],
   "source": [
    "def say_hi():\n",
    "    return \"hi\"\n",
    "\n",
    "print(say_hi())"
   ]
  },
  {
   "cell_type": "code",
   "execution_count": 37,
   "id": "e0366ea5",
   "metadata": {},
   "outputs": [
    {
     "name": "stdout",
     "output_type": "stream",
     "text": [
      "hi\n",
      "None\n"
     ]
    }
   ],
   "source": [
    "def say_hi(a):\n",
    "    print(a)\n",
    "b = say_hi(\"hi\")\n",
    "print(b)"
   ]
  },
  {
   "cell_type": "code",
   "execution_count": 39,
   "id": "0870f222",
   "metadata": {},
   "outputs": [
    {
     "name": "stdout",
     "output_type": "stream",
     "text": [
      "2\n",
      "-2\n",
      "2\n",
      "2\n"
     ]
    }
   ],
   "source": [
    "def sub2(a,b):\n",
    "    return a- b\n",
    "print(sub2(4,2))\n",
    "print(sub2(2,4))\n",
    "print(sub2(a=4,b=2))\n",
    "print(sub2(b=2,a=4))"
   ]
  },
  {
   "cell_type": "code",
   "execution_count": 50,
   "id": "374c883f",
   "metadata": {},
   "outputs": [
    {
     "name": "stdout",
     "output_type": "stream",
     "text": [
      "3\n",
      "24\n"
     ]
    }
   ],
   "source": [
    "def add_many(mode,*a):\n",
    "    if mode == \"sum\":\n",
    "        result=0\n",
    "        for item in a:\n",
    "            result+=item\n",
    "    elif mode ==\"mul\":\n",
    "        result=1\n",
    "        for item in a:\n",
    "            result*=item\n",
    "    return result\n",
    "print(add_many(\"sum\",1, 2))\n",
    "print(add_many(\"mul\",1, 2, 3, 4))"
   ]
  },
  {
   "cell_type": "code",
   "execution_count": 52,
   "id": "476dfe6a",
   "metadata": {},
   "outputs": [
    {
     "ename": "TypeError",
     "evalue": "add_many() missing 1 required keyword-only argument: 'mode'",
     "output_type": "error",
     "traceback": [
      "\u001b[1;31m---------------------------------------------------------------------------\u001b[0m",
      "\u001b[1;31mTypeError\u001b[0m                                 Traceback (most recent call last)",
      "\u001b[1;32m<ipython-input-52-daaa327590a6>\u001b[0m in \u001b[0;36m<module>\u001b[1;34m\u001b[0m\n\u001b[0;32m      9\u001b[0m             \u001b[0mresult\u001b[0m\u001b[1;33m*=\u001b[0m\u001b[0mitem\u001b[0m\u001b[1;33m\u001b[0m\u001b[1;33m\u001b[0m\u001b[0m\n\u001b[0;32m     10\u001b[0m     \u001b[1;32mreturn\u001b[0m \u001b[0mresult\u001b[0m\u001b[1;33m\u001b[0m\u001b[1;33m\u001b[0m\u001b[0m\n\u001b[1;32m---> 11\u001b[1;33m \u001b[0mprint\u001b[0m\u001b[1;33m(\u001b[0m\u001b[0madd_many\u001b[0m\u001b[1;33m(\u001b[0m\u001b[1;36m1\u001b[0m\u001b[1;33m,\u001b[0m \u001b[1;36m2\u001b[0m\u001b[1;33m,\u001b[0m\u001b[1;34m\"sum\"\u001b[0m\u001b[1;33m)\u001b[0m\u001b[1;33m)\u001b[0m\u001b[1;33m\u001b[0m\u001b[1;33m\u001b[0m\u001b[0m\n\u001b[0m\u001b[0;32m     12\u001b[0m \u001b[0mprint\u001b[0m\u001b[1;33m(\u001b[0m\u001b[0madd_many\u001b[0m\u001b[1;33m(\u001b[0m\u001b[1;36m1\u001b[0m\u001b[1;33m,\u001b[0m \u001b[1;36m2\u001b[0m\u001b[1;33m,\u001b[0m \u001b[1;36m3\u001b[0m\u001b[1;33m,\u001b[0m \u001b[1;36m4\u001b[0m\u001b[1;33m,\u001b[0m\u001b[1;34m\"mul\"\u001b[0m\u001b[1;33m)\u001b[0m\u001b[1;33m)\u001b[0m\u001b[1;33m\u001b[0m\u001b[1;33m\u001b[0m\u001b[0m\n",
      "\u001b[1;31mTypeError\u001b[0m: add_many() missing 1 required keyword-only argument: 'mode'"
     ]
    }
   ],
   "source": [
    "def add_many(*a,mode):\n",
    "    if mode == \"sum\":\n",
    "        result=0\n",
    "        for item in a:\n",
    "            result+=item\n",
    "    elif mode ==\"mul\":\n",
    "        result=1\n",
    "        for item in a:\n",
    "            result*=item\n",
    "    return result\n",
    "print(add_many(1, 2,\"sum\"))\n",
    "print(add_many(1, 2, 3, 4,\"mul\"))"
   ]
  },
  {
   "cell_type": "code",
   "execution_count": 51,
   "id": "7818c387",
   "metadata": {},
   "outputs": [
    {
     "name": "stdout",
     "output_type": "stream",
     "text": [
      "{'a': 1}\n"
     ]
    }
   ],
   "source": [
    "def print_kwa(**a):\n",
    "    print(a)\n",
    "print_kwa(a=1)"
   ]
  },
  {
   "cell_type": "code",
   "execution_count": 56,
   "id": "c61e5a58",
   "metadata": {},
   "outputs": [
    {
     "name": "stdout",
     "output_type": "stream",
     "text": [
      "c:3,d:2\n"
     ]
    }
   ],
   "source": [
    "def add_and_mul(a,b):\n",
    "    return a+b, a*b\n",
    "c,d = add_and_mul(1,2)\n",
    "print(\"c:\"+str(c)+\",d:\"+str(d))"
   ]
  },
  {
   "cell_type": "code",
   "execution_count": 61,
   "id": "b15b84fd",
   "metadata": {},
   "outputs": [
    {
     "name": "stdout",
     "output_type": "stream",
     "text": [
      "8\n",
      "11\n",
      "14\n"
     ]
    }
   ],
   "source": [
    "def my_classify(a,b,c=1,d=2):\n",
    "    print(a+b+c+d)\n",
    "my_classify(2,3)\n",
    "my_classify(2,3,4)\n",
    "my_classify(2,3,4,5)"
   ]
  },
  {
   "cell_type": "code",
   "execution_count": 67,
   "id": "725887f5",
   "metadata": {},
   "outputs": [
    {
     "name": "stdout",
     "output_type": "stream",
     "text": [
      "1\n"
     ]
    }
   ],
   "source": [
    "a = 1\n",
    "def vartest(a):\n",
    "    a = a+1 #vartest함수의 지역변수\n",
    "vartest(a)\n",
    "print(a)"
   ]
  },
  {
   "cell_type": "code",
   "execution_count": 63,
   "id": "ab0cbd81",
   "metadata": {},
   "outputs": [
    {
     "name": "stdout",
     "output_type": "stream",
     "text": [
      "2\n"
     ]
    }
   ],
   "source": [
    "a = 1\n",
    "def vartest(a):\n",
    "    a = a+1 #vartest함수의 지역변수\n",
    "    return a\n",
    "a = vartest(a)\n",
    "print(a)"
   ]
  },
  {
   "cell_type": "code",
   "execution_count": 66,
   "id": "9a6b4465",
   "metadata": {},
   "outputs": [
    {
     "name": "stdout",
     "output_type": "stream",
     "text": [
      "2\n"
     ]
    }
   ],
   "source": [
    "a = 1\n",
    "def vartest():\n",
    "    global a\n",
    "    a = a+1 #vartest함수의 지역변수\n",
    "vartest()\n",
    "print(a)"
   ]
  },
  {
   "cell_type": "code",
   "execution_count": 71,
   "id": "7d35c7a9",
   "metadata": {},
   "outputs": [
    {
     "name": "stdout",
     "output_type": "stream",
     "text": [
      "7\n"
     ]
    }
   ],
   "source": [
    "add_lam = lambda a, b: a+b\n",
    "res = add_lam(3,4)\n",
    "print(res)"
   ]
  },
  {
   "cell_type": "code",
   "execution_count": 74,
   "id": "05305d69",
   "metadata": {},
   "outputs": [
    {
     "name": "stdout",
     "output_type": "stream",
     "text": [
      "a b\n",
      "ab\n",
      "ab\n"
     ]
    }
   ],
   "source": [
    "print(\"a\",\"b\")\n",
    "print(\"a\"+\"b\")\n",
    "print(\"a\" \"b\")"
   ]
  },
  {
   "cell_type": "code",
   "execution_count": 76,
   "id": "d25d53f8",
   "metadata": {},
   "outputs": [
    {
     "name": "stdout",
     "output_type": "stream",
     "text": [
      "a b\n"
     ]
    }
   ],
   "source": [
    "print(\"a\", end=\" \")\n",
    "print(\"b\")"
   ]
  },
  {
   "cell_type": "code",
   "execution_count": 80,
   "id": "394ec53a",
   "metadata": {},
   "outputs": [
    {
     "name": "stdout",
     "output_type": "stream",
     "text": [
      "a b c\n",
      "abc\n",
      "a/b/c\n"
     ]
    }
   ],
   "source": [
    "print(\"a\",\"b\",\"c\")\n",
    "print(\"a\",\"b\",\"c\",sep=\"\")\n",
    "print(\"a\",\"b\",\"c\",sep=\"/\")"
   ]
  },
  {
   "cell_type": "code",
   "execution_count": 83,
   "id": "03c30cc1",
   "metadata": {},
   "outputs": [],
   "source": [
    "f = open(\"새파일.txt\",'w')\n",
    "f.write(\"안녕~!\")\n",
    "f.close()"
   ]
  },
  {
   "cell_type": "code",
   "execution_count": 85,
   "id": "d6db5101",
   "metadata": {},
   "outputs": [
    {
     "name": "stdout",
     "output_type": "stream",
     "text": [
      "안녕~!\n"
     ]
    }
   ],
   "source": [
    "f = open(\"새파일.txt\",'r')\n",
    "line1 = f.readline()\n",
    "print(line1)\n",
    "f.close()"
   ]
  },
  {
   "cell_type": "code",
   "execution_count": 90,
   "id": "f37c81d6",
   "metadata": {},
   "outputs": [
    {
     "name": "stdout",
     "output_type": "stream",
     "text": [
      "안녕~!\n"
     ]
    }
   ],
   "source": [
    "f = open(\"새파일.txt\",'r')\n",
    "while True:\n",
    "    line1 = f.readline()\n",
    "    if not line1: break\n",
    "    print(line1)\n",
    "f.close()"
   ]
  },
  {
   "cell_type": "code",
   "execution_count": 101,
   "id": "87aeefc7",
   "metadata": {},
   "outputs": [
    {
     "name": "stdout",
     "output_type": "stream",
     "text": [
      "['ㅎㅎㅎㅎ', 'ㅋㅋㅋㅋ', '캬캬캬', '큐큐']\n"
     ]
    }
   ],
   "source": [
    "f = open(\"새파일.txt\",'r')\n",
    "list1 = []\n",
    "list2 = []\n",
    "while True:\n",
    "    line1 = f.readline()\n",
    "    if not line1: break\n",
    "    list1.append(line1)\n",
    "f.close()\n",
    "for item in list1:\n",
    "    processed = item.replace(\"\\n\", \"\")\n",
    "    list2.append(processed)\n",
    "print(list2)"
   ]
  }
 ],
 "metadata": {
  "kernelspec": {
   "display_name": "Python 3",
   "language": "python",
   "name": "python3"
  },
  "language_info": {
   "codemirror_mode": {
    "name": "ipython",
    "version": 3
   },
   "file_extension": ".py",
   "mimetype": "text/x-python",
   "name": "python",
   "nbconvert_exporter": "python",
   "pygments_lexer": "ipython3",
   "version": "3.8.8"
  }
 },
 "nbformat": 4,
 "nbformat_minor": 5
}
