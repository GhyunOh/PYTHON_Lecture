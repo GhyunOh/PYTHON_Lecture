{
 "cells": [
  {
   "cell_type": "code",
   "execution_count": 1,
   "id": "129f583c",
   "metadata": {},
   "outputs": [],
   "source": [
    "a = \"Life is ~~~\""
   ]
  },
  {
   "cell_type": "code",
   "execution_count": 4,
   "id": "50eb65ff",
   "metadata": {},
   "outputs": [],
   "source": [
    "a1 = a[0:4]"
   ]
  },
  {
   "cell_type": "code",
   "execution_count": 5,
   "id": "7e7d609a",
   "metadata": {},
   "outputs": [],
   "source": [
    "a2 = a[0:5]"
   ]
  },
  {
   "cell_type": "code",
   "execution_count": 7,
   "id": "300f70b3",
   "metadata": {},
   "outputs": [
    {
     "name": "stdout",
     "output_type": "stream",
     "text": [
      "다르다\n"
     ]
    }
   ],
   "source": [
    "if a1 == a2:\n",
    "    print(\"같다\")\n",
    "else:\n",
    "    print(\"다르다\")"
   ]
  },
  {
   "cell_type": "code",
   "execution_count": 8,
   "id": "a4f76149",
   "metadata": {},
   "outputs": [
    {
     "name": "stdout",
     "output_type": "stream",
     "text": [
      "Life\n",
      "Life \n"
     ]
    }
   ],
   "source": [
    "print(a1)\n",
    "print(a2)"
   ]
  },
  {
   "cell_type": "code",
   "execution_count": 9,
   "id": "d623b9b1",
   "metadata": {},
   "outputs": [
    {
     "name": "stdout",
     "output_type": "stream",
     "text": [
      "Life 4\n",
      "Life  5\n"
     ]
    }
   ],
   "source": [
    "print(a1, len(a1))\n",
    "print(a2, len(a2))"
   ]
  },
  {
   "cell_type": "code",
   "execution_count": 13,
   "id": "c422519c",
   "metadata": {},
   "outputs": [
    {
     "data": {
      "text/plain": [
       "'Life'"
      ]
     },
     "execution_count": 13,
     "metadata": {},
     "output_type": "execute_result"
    }
   ],
   "source": [
    "a2.rstrip()"
   ]
  },
  {
   "cell_type": "code",
   "execution_count": 14,
   "id": "79bc15bd",
   "metadata": {},
   "outputs": [],
   "source": [
    "words1 = \"딸기, 바나나, 수박\""
   ]
  },
  {
   "cell_type": "code",
   "execution_count": 15,
   "id": "1a634d50",
   "metadata": {},
   "outputs": [
    {
     "name": "stdout",
     "output_type": "stream",
     "text": [
      "바나나\n"
     ]
    }
   ],
   "source": [
    "bananaFromWords1 = words1[4:7]\n",
    "print(bananaFromWords1)"
   ]
  },
  {
   "cell_type": "code",
   "execution_count": 25,
   "id": "96dfe867",
   "metadata": {},
   "outputs": [
    {
     "name": "stdout",
     "output_type": "stream",
     "text": [
      "바나나\n"
     ]
    }
   ],
   "source": [
    "indexOfBanana = words1.find(\"바나나\")\n",
    "bananaFromWords1 = words1[indexOfBanana:indexOfBanana+len(\"바나나\")]\n",
    "print(bananaFromWords1)"
   ]
  },
  {
   "cell_type": "code",
   "execution_count": 16,
   "id": "b6031adf",
   "metadata": {},
   "outputs": [
    {
     "name": "stdout",
     "output_type": "stream",
     "text": [
      "수박\n"
     ]
    }
   ],
   "source": [
    "wmFromWords1 = words1[9:]\n",
    "print(wmFromWords1)"
   ]
  },
  {
   "cell_type": "code",
   "execution_count": 18,
   "id": "5d4597ff",
   "metadata": {},
   "outputs": [
    {
     "name": "stdout",
     "output_type": "stream",
     "text": [
      "딸기\n"
     ]
    }
   ],
   "source": [
    "sbFromWords1 = words1[:2]\n",
    "print(sbFromWords1)"
   ]
  },
  {
   "cell_type": "code",
   "execution_count": 26,
   "id": "a6e26236",
   "metadata": {},
   "outputs": [],
   "source": [
    "a = \"Pithon\""
   ]
  },
  {
   "cell_type": "code",
   "execution_count": 29,
   "id": "523a7b76",
   "metadata": {},
   "outputs": [
    {
     "data": {
      "text/plain": [
       "'i'"
      ]
     },
     "execution_count": 29,
     "metadata": {},
     "output_type": "execute_result"
    }
   ],
   "source": [
    "a[1]"
   ]
  },
  {
   "cell_type": "code",
   "execution_count": 30,
   "id": "ecdaae9b",
   "metadata": {},
   "outputs": [
    {
     "ename": "TypeError",
     "evalue": "'str' object does not support item assignment",
     "output_type": "error",
     "traceback": [
      "\u001b[1;31m---------------------------------------------------------------------------\u001b[0m",
      "\u001b[1;31mTypeError\u001b[0m                                 Traceback (most recent call last)",
      "\u001b[1;32m<ipython-input-30-d5923cc78d10>\u001b[0m in \u001b[0;36m<module>\u001b[1;34m\u001b[0m\n\u001b[1;32m----> 1\u001b[1;33m \u001b[0ma\u001b[0m\u001b[1;33m[\u001b[0m\u001b[1;36m1\u001b[0m\u001b[1;33m]\u001b[0m \u001b[1;33m=\u001b[0m \u001b[1;34m'y'\u001b[0m\u001b[1;33m\u001b[0m\u001b[1;33m\u001b[0m\u001b[0m\n\u001b[0m",
      "\u001b[1;31mTypeError\u001b[0m: 'str' object does not support item assignment"
     ]
    }
   ],
   "source": [
    "a[1] = 'y'"
   ]
  },
  {
   "cell_type": "code",
   "execution_count": 32,
   "id": "9cccf58e",
   "metadata": {},
   "outputs": [],
   "source": [
    "a2 = a[:1] + 'y'+a[2:]"
   ]
  },
  {
   "cell_type": "code",
   "execution_count": 35,
   "id": "a1590e94",
   "metadata": {},
   "outputs": [
    {
     "name": "stdout",
     "output_type": "stream",
     "text": [
      "Python\n"
     ]
    }
   ],
   "source": [
    "a= a2\n",
    "print(a)"
   ]
  },
  {
   "cell_type": "code",
   "execution_count": 43,
   "id": "d757ca25",
   "metadata": {},
   "outputs": [
    {
     "name": "stdout",
     "output_type": "stream",
     "text": [
      "Index\tName\tMajor\tHowManyPhone\n",
      "1\t서호준\tIT\t1200\n",
      "2\t김한남\tBT\t300\n"
     ]
    }
   ],
   "source": [
    "name1 = \"서호준\";major1 = \"IT\";howManyPhone1=1200\n",
    "name2 = \"김한남\";major2 = \"BT\";howManyPhone2=300\n",
    "print(\"Index\"+\"\\t\"+\"Name\"+\"\\t\"+\"Major\"+\"\\t\"+\"HowManyPhone\")\n",
    "print(\"1\"+\"\\t\"+name1+\"\\t\"+major1+\"\\t\"+str(howManyPhone1))\n",
    "print(\"2\"+\"\\t\"+name2+\"\\t\"+major2+\"\\t\"+str(howManyPhone2))"
   ]
  },
  {
   "cell_type": "code",
   "execution_count": 49,
   "id": "efd6b7a0",
   "metadata": {},
   "outputs": [
    {
     "data": {
      "text/plain": [
       "'120'"
      ]
     },
     "execution_count": 49,
     "metadata": {},
     "output_type": "execute_result"
    }
   ],
   "source": [
    "\"%s\" % \"120\""
   ]
  },
  {
   "cell_type": "code",
   "execution_count": 50,
   "id": "5fe5739a",
   "metadata": {},
   "outputs": [
    {
     "name": "stdout",
     "output_type": "stream",
     "text": [
      "%s120\n",
      "120\n",
      "       120\n"
     ]
    }
   ],
   "source": [
    "print(\"%s\" \"120\")\n",
    "print(\"%s\" % \"120\")\n",
    "print(\"%10s\" % \"120\")"
   ]
  },
  {
   "cell_type": "code",
   "execution_count": 54,
   "id": "9bf48aea",
   "metadata": {},
   "outputs": [
    {
     "name": "stdout",
     "output_type": "stream",
     "text": [
      "Index\tName\tMajor\tHowManyPhone\n",
      "1\t서호준\tIT\t1200\n",
      "2\t김한남\tBT\t300\n",
      "Index\tName\tMajor\tHowManyPhone\n",
      "1\t서호준\tIT\t        1200\n",
      "2\t김한남\tBT\t         300\n"
     ]
    }
   ],
   "source": [
    "name1 = \"서호준\";major1 = \"IT\";howManyPhone1=1200\n",
    "name2 = \"김한남\";major2 = \"BT\";howManyPhone2=300\n",
    "print(\"Index\"+\"\\t\"+\"Name\"+\"\\t\"+\"Major\"+\"\\t\"+\"HowManyPhone\")\n",
    "print(\"1\"+\"\\t\"+name1+\"\\t\"+major1+\"\\t\"+str(howManyPhone1))\n",
    "print(\"2\"+\"\\t\"+name2+\"\\t\"+major2+\"\\t\"+str(howManyPhone2))\n",
    "print(\"Index\"+\"\\t\"+\"Name\"+\"\\t\"+\"Major\"+\"\\t\"+\"HowManyPhone\")\n",
    "print(\"1\\t\"+name1+\"\\t\"+major1+\"\\t\"+\"\"+\"%12s\"% str(howManyPhone1))\n",
    "print(\"2\\t\"+name2+\"\\t\"+major2+\"\\t\"+\"\"+\"%12s\"%str(howManyPhone2))"
   ]
  },
  {
   "cell_type": "code",
   "execution_count": 56,
   "id": "061b8671",
   "metadata": {},
   "outputs": [
    {
     "name": "stdout",
     "output_type": "stream",
     "text": [
      "%s120\n",
      "120\n",
      "       120\n",
      "    120000\n"
     ]
    }
   ],
   "source": [
    "print(\"%s\" \"120\")\n",
    "print(\"%s\" % \"120\")\n",
    "print(\"%10s\" % \"120\")\n",
    "print(\"%10s\" % \"120000\")"
   ]
  },
  {
   "cell_type": "code",
   "execution_count": 57,
   "id": "d947c069",
   "metadata": {},
   "outputs": [
    {
     "name": "stdout",
     "output_type": "stream",
     "text": [
      "120       \n",
      "120000    \n"
     ]
    }
   ],
   "source": [
    "print(\"%-10s\" % \"120\")\n",
    "print(\"%-10s\" % \"120000\")"
   ]
  },
  {
   "cell_type": "code",
   "execution_count": 64,
   "id": "0ea08fa1",
   "metadata": {},
   "outputs": [
    {
     "name": "stdout",
     "output_type": "stream",
     "text": [
      "120.00\n",
      "120000.00\n"
     ]
    }
   ],
   "source": [
    "print(\"%0.2f\" % 120)\n",
    "print(\"%0.2f\" % 120000)"
   ]
  },
  {
   "cell_type": "code",
   "execution_count": 65,
   "id": "d4fdbcd3",
   "metadata": {},
   "outputs": [
    {
     "name": "stdout",
     "output_type": "stream",
     "text": [
      "    120.00\n",
      " 120000.00\n"
     ]
    }
   ],
   "source": [
    "print(\"%10.2f\" % 120)\n",
    "print(\"%10.2f\" % 120000)"
   ]
  },
  {
   "cell_type": "code",
   "execution_count": 66,
   "id": "da20ddd7",
   "metadata": {},
   "outputs": [
    {
     "data": {
      "text/plain": [
       "'~~~{0}~~~{1}~~~~~~~'"
      ]
     },
     "execution_count": 66,
     "metadata": {},
     "output_type": "execute_result"
    }
   ],
   "source": [
    "\"~~~{0}~~~{1}~~~~~~~\""
   ]
  },
  {
   "cell_type": "code",
   "execution_count": 68,
   "id": "10698156",
   "metadata": {},
   "outputs": [
    {
     "data": {
      "text/plain": [
       "'~~~무~~~야호~~~~~~~'"
      ]
     },
     "execution_count": 68,
     "metadata": {},
     "output_type": "execute_result"
    }
   ],
   "source": [
    "\"~~~{0}~~~{1}~~~~~~~\".format(\"무\",\"야호\")"
   ]
  },
  {
   "cell_type": "code",
   "execution_count": 69,
   "id": "0d5ac4d0",
   "metadata": {},
   "outputs": [
    {
     "data": {
      "text/plain": [
       "'~~~무야~~~무야~~~~~~~~~~~~~~~~~~~~~~~~호~~'"
      ]
     },
     "execution_count": 69,
     "metadata": {},
     "output_type": "execute_result"
    }
   ],
   "source": [
    "\"~~~{0}~~~{0}~~~~~~~~~~~~~~~~~~~~~~~~{1}~~\".format(\"무야\",\"호\")"
   ]
  },
  {
   "cell_type": "code",
   "execution_count": 70,
   "id": "f21f7425",
   "metadata": {},
   "outputs": [
    {
     "data": {
      "text/plain": [
       "'~~~무야~~~무야~~~~~~~~~~~~~~~~~~~~~~~~호~~'"
      ]
     },
     "execution_count": 70,
     "metadata": {},
     "output_type": "execute_result"
    }
   ],
   "source": [
    "\"~~~{muYa}~~~{muYa}~~~~~~~~~~~~~~~~~~~~~~~~{ho}~~\".format(muYa=\"무야\",ho=\"호\")"
   ]
  },
  {
   "cell_type": "code",
   "execution_count": 71,
   "id": "5992f31d",
   "metadata": {},
   "outputs": [
    {
     "data": {
      "text/plain": [
       "'hi'"
      ]
     },
     "execution_count": 71,
     "metadata": {},
     "output_type": "execute_result"
    }
   ],
   "source": [
    "\"{0}\".format(\"hi\")"
   ]
  },
  {
   "cell_type": "code",
   "execution_count": 72,
   "id": "259cb788",
   "metadata": {},
   "outputs": [
    {
     "data": {
      "text/plain": [
       "'120       '"
      ]
     },
     "execution_count": 72,
     "metadata": {},
     "output_type": "execute_result"
    }
   ],
   "source": [
    "\"{0:<10}\".format(\"120\")"
   ]
  },
  {
   "cell_type": "code",
   "execution_count": 73,
   "id": "79f113bd",
   "metadata": {},
   "outputs": [
    {
     "data": {
      "text/plain": [
       "'   120    '"
      ]
     },
     "execution_count": 73,
     "metadata": {},
     "output_type": "execute_result"
    }
   ],
   "source": [
    "\"{0:^10}\".format(\"120\")"
   ]
  },
  {
   "cell_type": "code",
   "execution_count": 75,
   "id": "970c7e0b",
   "metadata": {},
   "outputs": [
    {
     "data": {
      "text/plain": [
       "'_______120'"
      ]
     },
     "execution_count": 75,
     "metadata": {},
     "output_type": "execute_result"
    }
   ],
   "source": [
    "\"{0:_>10}\".format(\"120\")"
   ]
  },
  {
   "cell_type": "code",
   "execution_count": 76,
   "id": "9c858502",
   "metadata": {},
   "outputs": [
    {
     "data": {
      "text/plain": [
       "'나의 이름은 호준입니다. 나이는 120살 까지 살고 싶어요'"
      ]
     },
     "execution_count": 76,
     "metadata": {},
     "output_type": "execute_result"
    }
   ],
   "source": [
    "name=\"호준\"\n",
    "age = 120\n",
    "\"나의 이름은 {0}입니다. 나이는 {1}살 까지 살고 싶어요\".format(name,age)"
   ]
  },
  {
   "cell_type": "code",
   "execution_count": 77,
   "id": "a85b614a",
   "metadata": {},
   "outputs": [
    {
     "data": {
      "text/plain": [
       "'나의 이름은 호준입니다. 나이는 120살 까지 살고 싶어요'"
      ]
     },
     "execution_count": 77,
     "metadata": {},
     "output_type": "execute_result"
    }
   ],
   "source": [
    "f\"나의 이름은 {name}입니다. 나이는 {age}살 까지 살고 싶어요\""
   ]
  },
  {
   "cell_type": "code",
   "execution_count": 78,
   "id": "3c6ed9f5",
   "metadata": {},
   "outputs": [
    {
     "data": {
      "text/plain": [
       "3"
      ]
     },
     "execution_count": 78,
     "metadata": {},
     "output_type": "execute_result"
    }
   ],
   "source": [
    "len(\"바나나\")"
   ]
  },
  {
   "cell_type": "code",
   "execution_count": 83,
   "id": "7b28b768",
   "metadata": {},
   "outputs": [
    {
     "data": {
      "text/plain": [
       "3"
      ]
     },
     "execution_count": 83,
     "metadata": {},
     "output_type": "execute_result"
    }
   ],
   "source": [
    "\"내가 가장 좋아하는 바나나는 크기가 큰 바나나 입니다. 왜냐면 작은 바나나는\\\n",
    "같은 무게를 사도 껍질로 다 버려져요\".count(\"바나나\")"
   ]
  },
  {
   "cell_type": "code",
   "execution_count": 84,
   "id": "ca6b00f5",
   "metadata": {},
   "outputs": [
    {
     "data": {
      "text/plain": [
       "'a,b,c,d'"
      ]
     },
     "execution_count": 84,
     "metadata": {},
     "output_type": "execute_result"
    }
   ],
   "source": [
    "\",\".join(\"abcd\")"
   ]
  },
  {
   "cell_type": "code",
   "execution_count": 86,
   "id": "099bb423",
   "metadata": {},
   "outputs": [
    {
     "data": {
      "text/plain": [
       "'abc,def,ghi'"
      ]
     },
     "execution_count": 86,
     "metadata": {},
     "output_type": "execute_result"
    }
   ],
   "source": [
    "\",\".join([\"abc\", \"def\", \"ghi\"])"
   ]
  },
  {
   "cell_type": "code",
   "execution_count": 88,
   "id": "423f0eba",
   "metadata": {},
   "outputs": [
    {
     "data": {
      "text/plain": [
       "'010-1235-5678'"
      ]
     },
     "execution_count": 88,
     "metadata": {},
     "output_type": "execute_result"
    }
   ],
   "source": [
    "#숫자만으로 저장된 전화 번호를 DB에서 얻었다 010 1234 5678 이번호를 -로 연결하자\n",
    "#010-1234-5678  01012345678\n",
    "phoneNum = [\"010\", \"1234\" ,\"5678\"]\n",
    "\"-\".join(phoneNum)"
   ]
  },
  {
   "cell_type": "code",
   "execution_count": 89,
   "id": "802f4695",
   "metadata": {},
   "outputs": [
    {
     "name": "stdout",
     "output_type": "stream",
     "text": [
      "I love peach. because peach is so sweet.\n"
     ]
    }
   ],
   "source": [
    "a = \"I love apple. because apple is so sweet.\"\n",
    "b = a.replace(\"apple\",\"peach\")\n",
    "print(b)"
   ]
  },
  {
   "cell_type": "code",
   "execution_count": 91,
   "id": "9d9528e3",
   "metadata": {},
   "outputs": [
    {
     "name": "stdout",
     "output_type": "stream",
     "text": [
      "01012345678\n"
     ]
    }
   ],
   "source": [
    "# 010-1234-5678 --> '01012345678'\n",
    "a = \"010-1234-5678\"\n",
    "b = a.replace(\"-\",\"\")\n",
    "print(b)"
   ]
  },
  {
   "cell_type": "code",
   "execution_count": 92,
   "id": "48b7e5b1",
   "metadata": {},
   "outputs": [
    {
     "name": "stdout",
     "output_type": "stream",
     "text": [
      "['life', 'is', 'good']\n"
     ]
    }
   ],
   "source": [
    "a = \"life is good\"\n",
    "b = a.split()\n",
    "print(b)"
   ]
  },
  {
   "cell_type": "code",
   "execution_count": 93,
   "id": "bc3bcf8f",
   "metadata": {},
   "outputs": [
    {
     "name": "stdout",
     "output_type": "stream",
     "text": [
      "['010', '1234', '5678']\n"
     ]
    }
   ],
   "source": [
    "# '010-1234-5678' --> ['010','1234','5678']\n",
    "a = \"010-1234-5678\"\n",
    "b = a.split(\"-\")\n",
    "print(b)"
   ]
  },
  {
   "cell_type": "code",
   "execution_count": 94,
   "id": "8045e5fa",
   "metadata": {},
   "outputs": [
    {
     "name": "stdout",
     "output_type": "stream",
     "text": [
      "식별번호: 010 , 국번 1234 , 개인번호 5678\n"
     ]
    }
   ],
   "source": [
    "# '010-1234-5678' --> ['010','1234','5678']\n",
    "a = \"010-1234-5678\"\n",
    "b = a.split(\"-\")\n",
    "print(\"식별번호:\",b[0],\", 국번\",b[1], \", 개인번호\",b[2])"
   ]
  },
  {
   "cell_type": "code",
   "execution_count": 96,
   "id": "082e8c6b",
   "metadata": {},
   "outputs": [
    {
     "name": "stdout",
     "output_type": "stream",
     "text": [
      "[]\n",
      "[1, 2, [3, 4]]\n",
      "3\n",
      "1\n",
      "[3, 4]\n",
      "[3, 4]\n",
      "4\n"
     ]
    }
   ],
   "source": [
    "a = []\n",
    "print(a)\n",
    "e = [ 1,2,[3,4]]\n",
    "print(e)\n",
    "print(len(e))\n",
    "print(e[0])\n",
    "print(e[2])\n",
    "print(e[-1])\n",
    "print(e[2][1])"
   ]
  },
  {
   "cell_type": "code",
   "execution_count": null,
   "id": "64a95d98",
   "metadata": {},
   "outputs": [],
   "source": []
  }
 ],
 "metadata": {
  "kernelspec": {
   "display_name": "Python 3",
   "language": "python",
   "name": "python3"
  },
  "language_info": {
   "codemirror_mode": {
    "name": "ipython",
    "version": 3
   },
   "file_extension": ".py",
   "mimetype": "text/x-python",
   "name": "python",
   "nbconvert_exporter": "python",
   "pygments_lexer": "ipython3",
   "version": "3.8.8"
  }
 },
 "nbformat": 4,
 "nbformat_minor": 5
}
