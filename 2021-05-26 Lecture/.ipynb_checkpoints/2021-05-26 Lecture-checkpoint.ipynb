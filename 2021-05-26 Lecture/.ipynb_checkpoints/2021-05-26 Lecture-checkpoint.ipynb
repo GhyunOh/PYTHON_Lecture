{
 "cells": [
  {
   "cell_type": "code",
   "execution_count": null,
   "id": "d85b1abf",
   "metadata": {},
   "outputs": [],
   "source": [
    "f = open(\"새파일.txt\", \"r\")\n",
    "lines = f.readlines()\n",
    "f.close()\n",
    "print(lines)"
   ]
  },
  {
   "cell_type": "code",
   "execution_count": null,
   "id": "3a7721d0",
   "metadata": {},
   "outputs": [],
   "source": [
    "f = open(\"새파일.txt\", \"r\")\n",
    "lines = f.readlines()\n",
    "f.close()\n",
    "newLines = []\n",
    "for line in lines:\n",
    "    newLines.append(line.replace(\"\\n\", \"\"))\n",
    "print(newLines)"
   ]
  },
  {
   "cell_type": "code",
   "execution_count": null,
   "id": "587ad638",
   "metadata": {},
   "outputs": [],
   "source": [
    "f = open(\"새파일.txt\", \"r\")\n",
    "page = f.read()\n",
    "f.close()\n",
    "print(page)\n",
    "lines = page.split(\"\\n\")\n",
    "print(lines)"
   ]
  },
  {
   "cell_type": "code",
   "execution_count": null,
   "id": "ba6dc543",
   "metadata": {},
   "outputs": [],
   "source": [
    "f = open(\"새파일.txt\", \"a\")\n",
    "f.write(\"\\n케케케\")\n",
    "f.close()"
   ]
  },
  {
   "cell_type": "code",
   "execution_count": null,
   "id": "32e9d11d",
   "metadata": {
    "scrolled": true
   },
   "outputs": [],
   "source": [
    "with open(\"새파일.txt\",\"a\") as f: \n",
    "    f.write(\"\\nㅎㅎㅎ\")"
   ]
  },
  {
   "cell_type": "code",
   "execution_count": null,
   "id": "62bf1a50",
   "metadata": {},
   "outputs": [],
   "source": [
    "a = int(input(\"첫번째 숫자를 입력하세요:\"))\n",
    "b = int(input(\"두번째 숫자를 입력하세요:\"))\n",
    "c = a+b\n",
    "print(\"두 수의 합은 \"+str(c)+\" 입니다.\" )"
   ]
  },
  {
   "cell_type": "code",
   "execution_count": null,
   "id": "cdab1e54",
   "metadata": {},
   "outputs": [],
   "source": [
    "def is_odd(number):\n",
    "    if(number% 2 == 1):\n",
    "        return True\n",
    "    else:\n",
    "        return False"
   ]
  },
  {
   "cell_type": "code",
   "execution_count": null,
   "id": "e5f98cc0",
   "metadata": {},
   "outputs": [],
   "source": [
    "def avg_numbers(*args):\n",
    "    result = 0\n",
    "    for i in args:\n",
    "        result += i\n",
    "    return result\n",
    "\n",
    "avg_numbers(1,2)\n",
    "avg_numbers(1,2,3,4,5)"
   ]
  },
  {
   "cell_type": "code",
   "execution_count": null,
   "id": "5f0b42c4",
   "metadata": {},
   "outputs": [],
   "source": [
    "input1 = int(input(\"첫번째 숫자를 입력하세요:\"))\n",
    "input2 = int(input(\"두번째 숫자를 입력하세요:\"))\n",
    "\n",
    "total = input1 + input2\n",
    "print(\"두 수의 합은 %d 입니다\"% total)"
   ]
  },
  {
   "cell_type": "code",
   "execution_count": null,
   "id": "2bcc82cc",
   "metadata": {},
   "outputs": [],
   "source": [
    "print(\"you\"\"need\"\"python\")\n",
    "print(\"you\"+\"need\"+\"python\")\n",
    "print(\"you\",\"need\",\"python\")\n",
    "print(\"\".join([\"you\",\"need\",\"python\"]))"
   ]
  },
  {
   "cell_type": "code",
   "execution_count": null,
   "id": "03572475",
   "metadata": {},
   "outputs": [],
   "source": [
    "f1 = open(\"test.txt\", \"w\")\n",
    "f1.write(\"Life is too short\")\n",
    "\n",
    "f2 = open(\"test.txt\", \"r\")\n",
    "a = f2.read()\n",
    "print(a)"
   ]
  },
  {
   "cell_type": "code",
   "execution_count": null,
   "id": "b92976b6",
   "metadata": {},
   "outputs": [],
   "source": [
    "user_input = input(\"저장할 내용을 입력하세요:\")\n",
    "f = open(\"test.txt\", \"a\")\n",
    "f.write(user_input)\n",
    "f.write(\"\\n\")\n",
    "f.close()"
   ]
  },
  {
   "cell_type": "code",
   "execution_count": null,
   "id": "e66e8d15",
   "metadata": {},
   "outputs": [],
   "source": [
    "f = open(\"test.txt\", \"r\")\n",
    "body = f.read()\n",
    "f.close()\n",
    "\n",
    "body = body.replace(\"java\",\"python\")\n",
    "\n",
    "f = open(\"test.txt\",\"w\")\n",
    "f.write(body)\n",
    "f.close()"
   ]
  },
  {
   "cell_type": "code",
   "execution_count": null,
   "id": "e2cffabb",
   "metadata": {},
   "outputs": [],
   "source": [
    "class FourCal:\n",
    "    def setdata(self,a,b):\n",
    "        self.first = a\n",
    "        self.second = b\n",
    "    def add(self):\n",
    "        result = self.first + self.second\n",
    "        return result\n",
    "    def mul(self):\n",
    "        result = self.first * self.second\n",
    "        return result\n",
    "aCal = FourCal()\n",
    "bCal = FourCal()\n",
    "aCal.setdata(4,2)\n",
    "print(aCal.add())\n",
    "bCal.setdata(3,8)\n",
    "print(bCal.add())"
   ]
  },
  {
   "cell_type": "code",
   "execution_count": null,
   "id": "166b35cd",
   "metadata": {},
   "outputs": [],
   "source": [
    "class FourCal:\n",
    "    def __init__(self,a,b):\n",
    "        self.first = a\n",
    "        self.second = b\n",
    "    def add(self):\n",
    "        result = self.first + self.second\n",
    "        return result\n",
    "    def mul(self):\n",
    "        result = self.first * self.second\n",
    "        return result\n",
    "aCal = FourCal(4,2)\n",
    "bCal = FourCal(3,8)\n",
    "print(aCal.add())\n",
    "print(bCal.add())"
   ]
  },
  {
   "cell_type": "code",
   "execution_count": null,
   "id": "534dc2a0",
   "metadata": {},
   "outputs": [],
   "source": [
    "class FourCal:\n",
    "    def __init__(self,a,b):\n",
    "        self.first = a\n",
    "        self.second = b\n",
    "    def add(self):\n",
    "        result = self.first + self.second\n",
    "        return result\n",
    "    def mul(self):\n",
    "        result = self.first * self.second\n",
    "        return result\n",
    "    \n",
    "class MoreFourCal(FourCal):\n",
    "    def pow(self):\n",
    "        result = self.first ** self.second\n",
    "        return result\n",
    "    \n",
    "c = MoreFourCal(4,2)\n",
    "d = c.pow()\n",
    "print(d)"
   ]
  },
  {
   "cell_type": "code",
   "execution_count": null,
   "id": "44b0e5f5",
   "metadata": {},
   "outputs": [],
   "source": [
    "class FourCal:\n",
    "    def __init__(self,a,b):\n",
    "        self.first = a\n",
    "        self.second = b\n",
    "    def add(self):\n",
    "        result = self.first + self.second\n",
    "        return result\n",
    "    def mul(self):\n",
    "        result = self.first * self.second\n",
    "        return result\n",
    "    def div(self):\n",
    "        result = self.first / self.second\n",
    "        return result\n",
    "class MoreFourCal(FourCal):\n",
    "    def pow(self):\n",
    "        result = self.first ** self.second\n",
    "        return result\n",
    "    def div(self):\n",
    "        if self.second == 0:\n",
    "            self.second = 0.0000000000000000000001\n",
    "        result = self.first / self.second\n",
    "        return result\n",
    "c = MoreFourCal(4,0)\n",
    "d = c.div()\n",
    "print(d) "
   ]
  },
  {
   "cell_type": "code",
   "execution_count": null,
   "id": "8a7620df",
   "metadata": {},
   "outputs": [],
   "source": [
    "class MyMath:\n",
    "    MyPI = 3.14\n",
    "    \n",
    "mm = MyMath()\n",
    "print(mm.MyPI)"
   ]
  },
  {
   "cell_type": "code",
   "execution_count": null,
   "id": "015dcde8",
   "metadata": {},
   "outputs": [],
   "source": [
    "mm1 = MyMath()\n",
    "mm1.MyPI = 4\n",
    "mm2 = MyMath()\n",
    "print(mm1.MyPI, mm2.MyPI)\n"
   ]
  },
  {
   "cell_type": "code",
   "execution_count": null,
   "id": "6a189073",
   "metadata": {},
   "outputs": [],
   "source": [
    "import mod1\n",
    "print(mod1.add_mod1(3,4))\n",
    "print(mod1.sub_mod1(3,4))"
   ]
  },
  {
   "cell_type": "code",
   "execution_count": null,
   "id": "5d7fa6fd",
   "metadata": {},
   "outputs": [],
   "source": [
    "from mod1 import add_mod1, sub_mod1\n",
    "print(add_mod1(3,4))\n",
    "print(sub_mod1(3,4))"
   ]
  },
  {
   "cell_type": "code",
   "execution_count": null,
   "id": "c93e9321",
   "metadata": {},
   "outputs": [],
   "source": [
    "from mod1 import *\n",
    "print(add_mod1(3,4))\n",
    "print(sub_mod1(3,4))"
   ]
  },
  {
   "cell_type": "code",
   "execution_count": null,
   "id": "9253c4c0",
   "metadata": {},
   "outputs": [],
   "source": [
    "import mod1 as m1\n",
    "print(m1.add_mod1(3,4))\n",
    "print(m1.sub_mod1(3,4))"
   ]
  },
  {
   "cell_type": "code",
   "execution_count": null,
   "id": "11bc0eb5",
   "metadata": {},
   "outputs": [],
   "source": [
    "import mod2\n",
    "print(mod2.add_mod2(3,4))\n",
    "print(mod2.PI)\n",
    "mm2 = mod2.Math_mod2()\n",
    "print(mm2.solve(2))"
   ]
  },
  {
   "cell_type": "code",
   "execution_count": null,
   "id": "3c2b1816",
   "metadata": {},
   "outputs": [],
   "source": [
    "import numpy as np\n",
    "import pandas as pd\n",
    "import matplotlib.pyplot as plt"
   ]
  },
  {
   "cell_type": "code",
   "execution_count": null,
   "id": "94915075",
   "metadata": {},
   "outputs": [],
   "source": [
    "try:\n",
    "    print(4/0)\n",
    "except ZeroDivisionError as e:\n",
    "    print(4/0.0000000000000000000000000000000001)\n",
    "    #print(e)"
   ]
  },
  {
   "cell_type": "code",
   "execution_count": null,
   "id": "8b732b0f",
   "metadata": {},
   "outputs": [],
   "source": [
    "def positive(l):\n",
    "    result=[]\n",
    "    for i in l:\n",
    "        if i > 0: result.append(i)\n",
    "    return result\n",
    "\n",
    "print(positive([1,-3,2,0,-5,6]))"
   ]
  },
  {
   "cell_type": "code",
   "execution_count": null,
   "id": "092b67c0",
   "metadata": {},
   "outputs": [],
   "source": [
    "def positive(x):\n",
    "    return x> 0 \n",
    "data = [1,-3,2,0,-5,6]\n",
    "f = filter(positive,data)\n",
    "print(list(f))\n"
   ]
  },
  {
   "cell_type": "code",
   "execution_count": null,
   "id": "8aa7f9a6",
   "metadata": {},
   "outputs": [],
   "source": [
    "data=[1,-3,2,0,-5,6]\n",
    "list(filter(lambda x: x>0, data))"
   ]
  },
  {
   "cell_type": "code",
   "execution_count": null,
   "id": "85465753",
   "metadata": {},
   "outputs": [],
   "source": [
    "a = int(input(\"숫자를 입력하세요\"))\n",
    "a = a+1\n",
    "print(a)"
   ]
  },
  {
   "cell_type": "code",
   "execution_count": 3,
   "id": "913656e2",
   "metadata": {},
   "outputs": [
    {
     "name": "stdout",
     "output_type": "stream",
     "text": [
      "숫자 2개를 입력하세요10 20\n",
      "11 그리고 21\n"
     ]
    }
   ],
   "source": [
    "a,b = map(int,input(\"숫자 2개를 입력하세요\").split())\n",
    "print(a+1,\"그리고\",b+1)"
   ]
  },
  {
   "cell_type": "code",
   "execution_count": 5,
   "id": "95708acd",
   "metadata": {},
   "outputs": [
    {
     "data": {
      "text/plain": [
       "[(1, 4), (2, 5), (3, 6)]"
      ]
     },
     "execution_count": 5,
     "metadata": {},
     "output_type": "execute_result"
    }
   ],
   "source": [
    "data1 = [1,2,3]\n",
    "data2 = [4,5,6]\n",
    "list(zip(data1,data2))"
   ]
  },
  {
   "cell_type": "code",
   "execution_count": 7,
   "id": "bd6729fc",
   "metadata": {},
   "outputs": [
    {
     "data": {
      "text/plain": [
       "'C:\\\\ProgramData\\\\Anaconda3;C:\\\\ProgramData\\\\Anaconda3\\\\Library\\\\mingw-w64\\\\bin;C:\\\\ProgramData\\\\Anaconda3\\\\Library\\\\usr\\\\bin;C:\\\\ProgramData\\\\Anaconda3\\\\Library\\\\bin;C:\\\\ProgramData\\\\Anaconda3\\\\Scripts;C:\\\\Program Files\\\\Common Files\\\\Oracle\\\\Java\\\\javapath;C:\\\\Program Files (x86)\\\\Intel\\\\Intel(R) Management Engine Components\\\\iCLS\\\\;C:\\\\Program Files\\\\Intel\\\\Intel(R) Management Engine Components\\\\iCLS\\\\;C:\\\\Windows\\\\system32;C:\\\\Windows;C:\\\\Windows\\\\System32\\\\Wbem;C:\\\\Windows\\\\System32\\\\WindowsPowerShell\\\\v1.0\\\\;C:\\\\Windows\\\\System32\\\\OpenSSH\\\\;C:\\\\Program Files (x86)\\\\Intel\\\\Intel(R) Management Engine Components\\\\DAL;C:\\\\Program Files\\\\Intel\\\\Intel(R) Management Engine Components\\\\DAL;C:\\\\Program Files\\\\Intel\\\\WiFi\\\\bin\\\\;C:\\\\Program Files\\\\Common Files\\\\Intel\\\\WirelessCommon\\\\;C:\\\\Program Files (x86)\\\\NVIDIA Corporation\\\\PhysX\\\\Common;C:\\\\Program Files\\\\NVIDIA Corporation\\\\NVIDIA NvDLISR;C:\\\\Program Files\\\\Git\\\\cmd;C:\\\\WINDOWS\\\\system32;C:\\\\WINDOWS;C:\\\\WINDOWS\\\\System32\\\\Wbem;C:\\\\WINDOWS\\\\System32\\\\WindowsPowerShell\\\\v1.0\\\\;C:\\\\WINDOWS\\\\System32\\\\OpenSSH\\\\;C:\\\\Program Files\\\\Git LFS;C:\\\\Program Files\\\\Java\\\\jdk-16.0.1\\\\bin;C:\\\\Users\\\\CPB06GameN\\\\AppData\\\\Local\\\\Microsoft\\\\WindowsApps;C:\\\\Program Files\\\\Intel\\\\WiFi\\\\bin\\\\;C:\\\\Program Files\\\\Common Files\\\\Intel\\\\WirelessCommon\\\\;C:\\\\Program Files\\\\Bandizip\\\\;;C:\\\\Users\\\\CPB06GameN\\\\AppData\\\\Local\\\\Programs\\\\Microsoft VS Code\\\\bin'"
      ]
     },
     "execution_count": 7,
     "metadata": {},
     "output_type": "execute_result"
    }
   ],
   "source": [
    "import os\n",
    "os.environ[\"path\"]"
   ]
  },
  {
   "cell_type": "code",
   "execution_count": 8,
   "id": "ff635794",
   "metadata": {},
   "outputs": [
    {
     "data": {
      "text/plain": [
       "'C:\\\\Workspace\\\\Python\\\\2021-05-26 Lecture'"
      ]
     },
     "execution_count": 8,
     "metadata": {},
     "output_type": "execute_result"
    }
   ],
   "source": [
    "os.getcwd()"
   ]
  },
  {
   "cell_type": "code",
   "execution_count": 12,
   "id": "9592a7f9",
   "metadata": {},
   "outputs": [
    {
     "data": {
      "text/plain": [
       "['C:\\\\Workspace\\\\Python\\\\2021-05-26 Lecture\\\\mod1.py',\n",
       " 'C:\\\\Workspace\\\\Python\\\\2021-05-26 Lecture\\\\mod2.py']"
      ]
     },
     "execution_count": 12,
     "metadata": {},
     "output_type": "execute_result"
    }
   ],
   "source": [
    "import glob\n",
    "glob.glob('C:\\\\Workspace\\\\Python\\\\2021-05-26 Lecture\\\\*.py')"
   ]
  },
  {
   "cell_type": "code",
   "execution_count": 13,
   "id": "28b5c580",
   "metadata": {},
   "outputs": [
    {
     "data": {
      "text/plain": [
       "[1, 2, 3]"
      ]
     },
     "execution_count": 13,
     "metadata": {},
     "output_type": "execute_result"
    }
   ],
   "source": [
    "a=[1,2,3]\n",
    "b = a\n",
    "b"
   ]
  },
  {
   "cell_type": "code",
   "execution_count": 17,
   "id": "845d0031",
   "metadata": {},
   "outputs": [],
   "source": [
    "import tempfile"
   ]
  },
  {
   "cell_type": "code",
   "execution_count": 18,
   "id": "45b26978",
   "metadata": {},
   "outputs": [],
   "source": [
    "import time"
   ]
  },
  {
   "cell_type": "code",
   "execution_count": 19,
   "id": "9533af6b",
   "metadata": {},
   "outputs": [
    {
     "data": {
      "text/plain": [
       "1622012971.5858514"
      ]
     },
     "execution_count": 19,
     "metadata": {},
     "output_type": "execute_result"
    }
   ],
   "source": [
    "time.time()"
   ]
  },
  {
   "cell_type": "code",
   "execution_count": 25,
   "id": "7f3ab72d",
   "metadata": {},
   "outputs": [
    {
     "data": {
      "text/plain": [
       "'Wed May 26 16:10:49 2021'"
      ]
     },
     "execution_count": 25,
     "metadata": {},
     "output_type": "execute_result"
    }
   ],
   "source": [
    "time.asctime(time.localtime(time.time()))"
   ]
  },
  {
   "cell_type": "code",
   "execution_count": 26,
   "id": "a62e0d7e",
   "metadata": {},
   "outputs": [
    {
     "data": {
      "text/plain": [
       "['Wed', 'May', '26', '16:11:01', '2021']"
      ]
     },
     "execution_count": 26,
     "metadata": {},
     "output_type": "execute_result"
    }
   ],
   "source": [
    "time.asctime(time.localtime(time.time())).split()"
   ]
  },
  {
   "cell_type": "code",
   "execution_count": 27,
   "id": "f46dbc25",
   "metadata": {},
   "outputs": [
    {
     "data": {
      "text/plain": [
       "'Wed May 26 16:11:24 2021'"
      ]
     },
     "execution_count": 27,
     "metadata": {},
     "output_type": "execute_result"
    }
   ],
   "source": [
    "time.ctime()"
   ]
  },
  {
   "cell_type": "code",
   "execution_count": 29,
   "id": "da03ee44",
   "metadata": {},
   "outputs": [
    {
     "name": "stdout",
     "output_type": "stream",
     "text": [
      "0\n",
      "1\n",
      "2\n",
      "3\n",
      "4\n",
      "5\n",
      "6\n",
      "7\n",
      "8\n",
      "9\n"
     ]
    }
   ],
   "source": [
    "for i in range(0,10):\n",
    "    print(i)"
   ]
  },
  {
   "cell_type": "code",
   "execution_count": 127,
   "id": "5d89afc2",
   "metadata": {},
   "outputs": [
    {
     "data": {
      "text/plain": [
       "0.7235974427010342"
      ]
     },
     "execution_count": 127,
     "metadata": {},
     "output_type": "execute_result"
    }
   ],
   "source": [
    "import random\n",
    "random.random()"
   ]
  },
  {
   "cell_type": "code",
   "execution_count": 642,
   "id": "8c2462da",
   "metadata": {},
   "outputs": [
    {
     "name": "stdout",
     "output_type": "stream",
     "text": [
      "2\n"
     ]
    }
   ],
   "source": [
    "random.randint(1,45)"
   ]
  },
  {
   "cell_type": "code",
   "execution_count": 689,
   "id": "cc05ec4b",
   "metadata": {},
   "outputs": [
    {
     "name": "stdout",
     "output_type": "stream",
     "text": [
      "Wall time: 18 ms\n"
     ]
    }
   ],
   "source": [
    "import numpy as np\n",
    "my_arr = np.arange(1000000)\n",
    "my_list = list(range(1000000))\n",
    "%time for i in range(10): my_arr2=my_arr*2"
   ]
  },
  {
   "cell_type": "code",
   "execution_count": 685,
   "id": "fabe85d6",
   "metadata": {},
   "outputs": [
    {
     "name": "stdout",
     "output_type": "stream",
     "text": [
      "Wall time: 803 ms\n"
     ]
    }
   ],
   "source": [
    "%time for i in range(10): my_list2=[x*2 for x in my_list]"
   ]
  },
  {
   "cell_type": "code",
   "execution_count": 695,
   "id": "f04b57d2",
   "metadata": {},
   "outputs": [
    {
     "data": {
      "text/plain": [
       "array([[-2.15472268, -0.89956008, -0.8738174 ],\n",
       "       [ 0.76150477,  0.53835956, -1.1572312 ]])"
      ]
     },
     "execution_count": 695,
     "metadata": {},
     "output_type": "execute_result"
    }
   ],
   "source": [
    "data = np.random.randn(2,3)\n",
    "data"
   ]
  },
  {
   "cell_type": "code",
   "execution_count": 696,
   "id": "2a926077",
   "metadata": {},
   "outputs": [
    {
     "data": {
      "text/plain": [
       "array([[-21.54722676,  -8.99560084,  -8.738174  ],\n",
       "       [  7.61504767,   5.38359564, -11.57231201]])"
      ]
     },
     "execution_count": 696,
     "metadata": {},
     "output_type": "execute_result"
    }
   ],
   "source": [
    "data * 10"
   ]
  },
  {
   "cell_type": "code",
   "execution_count": 697,
   "id": "ef52beb8",
   "metadata": {},
   "outputs": [
    {
     "data": {
      "text/plain": [
       "array([[-4.30944535, -1.79912017, -1.7476348 ],\n",
       "       [ 1.52300953,  1.07671913, -2.3144624 ]])"
      ]
     },
     "execution_count": 697,
     "metadata": {},
     "output_type": "execute_result"
    }
   ],
   "source": [
    "data+data"
   ]
  },
  {
   "cell_type": "code",
   "execution_count": 698,
   "id": "e325002b",
   "metadata": {},
   "outputs": [
    {
     "data": {
      "text/plain": [
       "(2, 3)"
      ]
     },
     "execution_count": 698,
     "metadata": {},
     "output_type": "execute_result"
    }
   ],
   "source": [
    "data.shape"
   ]
  },
  {
   "cell_type": "code",
   "execution_count": 699,
   "id": "63f17d7c",
   "metadata": {},
   "outputs": [
    {
     "data": {
      "text/plain": [
       "dtype('float64')"
      ]
     },
     "execution_count": 699,
     "metadata": {},
     "output_type": "execute_result"
    }
   ],
   "source": [
    "data.dtype"
   ]
  },
  {
   "cell_type": "code",
   "execution_count": 701,
   "id": "6d42ae0e",
   "metadata": {},
   "outputs": [
    {
     "data": {
      "text/plain": [
       "array([6. , 7.5, 8. , 0. , 1. ])"
      ]
     },
     "execution_count": 701,
     "metadata": {},
     "output_type": "execute_result"
    }
   ],
   "source": [
    "data = [ 6,7.5,8,0,1]\n",
    "arr = np.array(data)\n",
    "arr"
   ]
  },
  {
   "cell_type": "code",
   "execution_count": 703,
   "id": "ecd1e235",
   "metadata": {},
   "outputs": [
    {
     "data": {
      "text/plain": [
       "[[1, 2, 3, 4], [5, 6, 7, 8]]"
      ]
     },
     "execution_count": 703,
     "metadata": {},
     "output_type": "execute_result"
    }
   ],
   "source": [
    "data2d = [[1,2,3,4],[5,6,7,8]]\n",
    "data2d"
   ]
  },
  {
   "cell_type": "code",
   "execution_count": 704,
   "id": "d67fd170",
   "metadata": {},
   "outputs": [],
   "source": [
    "arr2d = np.array(data2d)"
   ]
  },
  {
   "cell_type": "code",
   "execution_count": 705,
   "id": "9070648c",
   "metadata": {},
   "outputs": [
    {
     "data": {
      "text/plain": [
       "2"
      ]
     },
     "execution_count": 705,
     "metadata": {},
     "output_type": "execute_result"
    }
   ],
   "source": [
    "arr2d.ndim"
   ]
  },
  {
   "cell_type": "code",
   "execution_count": 706,
   "id": "15a38ab9",
   "metadata": {},
   "outputs": [
    {
     "data": {
      "text/plain": [
       "(2, 4)"
      ]
     },
     "execution_count": 706,
     "metadata": {},
     "output_type": "execute_result"
    }
   ],
   "source": [
    "arr2d.shape"
   ]
  },
  {
   "cell_type": "code",
   "execution_count": 708,
   "id": "56718d9b",
   "metadata": {},
   "outputs": [
    {
     "data": {
      "text/plain": [
       "array([0., 0., 0., 0., 0., 0., 0., 0., 0., 0.])"
      ]
     },
     "execution_count": 708,
     "metadata": {},
     "output_type": "execute_result"
    }
   ],
   "source": [
    "np.zeros(10)"
   ]
  },
  {
   "cell_type": "code",
   "execution_count": 709,
   "id": "12421d65",
   "metadata": {},
   "outputs": [
    {
     "data": {
      "text/plain": [
       "array([[0., 0., 0., 0., 0., 0.],\n",
       "       [0., 0., 0., 0., 0., 0.],\n",
       "       [0., 0., 0., 0., 0., 0.]])"
      ]
     },
     "execution_count": 709,
     "metadata": {},
     "output_type": "execute_result"
    }
   ],
   "source": [
    "np.zeros((3,6))"
   ]
  },
  {
   "cell_type": "code",
   "execution_count": 710,
   "id": "b45f15c0",
   "metadata": {},
   "outputs": [
    {
     "data": {
      "text/plain": [
       "dtype('float64')"
      ]
     },
     "execution_count": 710,
     "metadata": {},
     "output_type": "execute_result"
    }
   ],
   "source": [
    "np.zeros((2,3,2)).dtype"
   ]
  },
  {
   "cell_type": "code",
   "execution_count": 719,
   "id": "2574dcfa",
   "metadata": {},
   "outputs": [
    {
     "data": {
      "text/plain": [
       "array([[[0, 0],\n",
       "        [0, 0],\n",
       "        [0, 0]],\n",
       "\n",
       "       [[0, 0],\n",
       "        [0, 0],\n",
       "        [0, 0]]])"
      ]
     },
     "execution_count": 719,
     "metadata": {},
     "output_type": "execute_result"
    }
   ],
   "source": [
    "arr = np.zeros((2,3,2), dtype=np.int32)\n",
    "arr"
   ]
  },
  {
   "cell_type": "code",
   "execution_count": 724,
   "id": "be1b3842",
   "metadata": {},
   "outputs": [
    {
     "data": {
      "text/plain": [
       "array([[1., 1., 1.],\n",
       "       [1., 1., 1.]])"
      ]
     },
     "execution_count": 724,
     "metadata": {},
     "output_type": "execute_result"
    }
   ],
   "source": [
    "arr1 = np.zeros((2,3))\n",
    "arr2 = np.ones_like(arr1)\n",
    "arr2"
   ]
  },
  {
   "cell_type": "code",
   "execution_count": 726,
   "id": "bd5e05fd",
   "metadata": {},
   "outputs": [
    {
     "data": {
      "text/plain": [
       "array([[5, 5, 5],\n",
       "       [5, 5, 5]])"
      ]
     },
     "execution_count": 726,
     "metadata": {},
     "output_type": "execute_result"
    }
   ],
   "source": [
    "arr3 = np.full((2,3),5)\n",
    "arr3"
   ]
  },
  {
   "cell_type": "code",
   "execution_count": 735,
   "id": "6c88ea63",
   "metadata": {},
   "outputs": [
    {
     "data": {
      "text/plain": [
       "array([[1., 0., 0.],\n",
       "       [0., 1., 0.],\n",
       "       [0., 0., 1.]])"
      ]
     },
     "execution_count": 735,
     "metadata": {},
     "output_type": "execute_result"
    }
   ],
   "source": [
    "arr4 = np.eye(3)\n",
    "arr4"
   ]
  }
 ],
 "metadata": {
  "kernelspec": {
   "display_name": "Python 3",
   "language": "python",
   "name": "python3"
  },
  "language_info": {
   "codemirror_mode": {
    "name": "ipython",
    "version": 3
   },
   "file_extension": ".py",
   "mimetype": "text/x-python",
   "name": "python",
   "nbconvert_exporter": "python",
   "pygments_lexer": "ipython3",
   "version": "3.8.8"
  }
 },
 "nbformat": 4,
 "nbformat_minor": 5
}
